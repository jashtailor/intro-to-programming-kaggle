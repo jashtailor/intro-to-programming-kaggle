{
 "cells": [
  {
   "cell_type": "markdown",
   "id": "a0cb92dd",
   "metadata": {
    "papermill": {
     "duration": 0.007375,
     "end_time": "2022-08-15T09:28:12.660951",
     "exception": false,
     "start_time": "2022-08-15T09:28:12.653576",
     "status": "completed"
    },
    "tags": []
   },
   "source": [
    "**This notebook is an exercise in the [Intro to Programming](https://www.kaggle.com/learn/intro-to-programming) course.  You can reference the tutorial at [this link](https://www.kaggle.com/alexisbcook/data-types).**\n",
    "\n",
    "---\n"
   ]
  },
  {
   "cell_type": "markdown",
   "id": "875b1837",
   "metadata": {
    "papermill": {
     "duration": 0.005736,
     "end_time": "2022-08-15T09:28:12.672780",
     "exception": false,
     "start_time": "2022-08-15T09:28:12.667044",
     "status": "completed"
    },
    "tags": []
   },
   "source": [
    "In the tutorial, you learned about four different data types: floats, integers, strings, and booleans.  In this exercise, you'll experiment with them.\n",
    "\n",
    "# Set up the notebook\n",
    "\n",
    "Run the next code cell without changes to set up the notebook."
   ]
  },
  {
   "cell_type": "code",
   "execution_count": 1,
   "id": "dfdeeb6a",
   "metadata": {
    "execution": {
     "iopub.execute_input": "2022-08-15T09:28:12.687526Z",
     "iopub.status.busy": "2022-08-15T09:28:12.686571Z",
     "iopub.status.idle": "2022-08-15T09:28:12.740129Z",
     "shell.execute_reply": "2022-08-15T09:28:12.738800Z"
    },
    "papermill": {
     "duration": 0.064333,
     "end_time": "2022-08-15T09:28:12.743155",
     "exception": false,
     "start_time": "2022-08-15T09:28:12.678822",
     "status": "completed"
    },
    "tags": []
   },
   "outputs": [
    {
     "name": "stdout",
     "output_type": "stream",
     "text": [
      "Setup complete.\n"
     ]
    }
   ],
   "source": [
    "# Set up the exercise\n",
    "from learntools.core import binder\n",
    "binder.bind(globals())\n",
    "from learntools.intro_to_programming.ex3 import *\n",
    "print('Setup complete.')"
   ]
  },
  {
   "cell_type": "markdown",
   "id": "2ce62c72",
   "metadata": {
    "papermill": {
     "duration": 0.005841,
     "end_time": "2022-08-15T09:28:12.755537",
     "exception": false,
     "start_time": "2022-08-15T09:28:12.749696",
     "status": "completed"
    },
    "tags": []
   },
   "source": [
    "# Question 1\n",
    "\n",
    "You have seen how to convert a float to an integer with the `int` function.  Try this out yourself by running the code cell below."
   ]
  },
  {
   "cell_type": "code",
   "execution_count": 2,
   "id": "f7de2151",
   "metadata": {
    "execution": {
     "iopub.execute_input": "2022-08-15T09:28:12.769716Z",
     "iopub.status.busy": "2022-08-15T09:28:12.768988Z",
     "iopub.status.idle": "2022-08-15T09:28:12.776022Z",
     "shell.execute_reply": "2022-08-15T09:28:12.774428Z"
    },
    "papermill": {
     "duration": 0.017482,
     "end_time": "2022-08-15T09:28:12.779014",
     "exception": false,
     "start_time": "2022-08-15T09:28:12.761532",
     "status": "completed"
    },
    "tags": []
   },
   "outputs": [
    {
     "name": "stdout",
     "output_type": "stream",
     "text": [
      "1.0\n",
      "<class 'float'>\n",
      "1\n",
      "<class 'int'>\n"
     ]
    }
   ],
   "source": [
    "# Define a float\n",
    "y = 1.\n",
    "print(y)\n",
    "print(type(y))\n",
    "\n",
    "# Convert float to integer with the int function\n",
    "z = int(y)\n",
    "print(z)\n",
    "print(type(z))"
   ]
  },
  {
   "cell_type": "markdown",
   "id": "9a91088d",
   "metadata": {
    "papermill": {
     "duration": 0.005904,
     "end_time": "2022-08-15T09:28:12.791275",
     "exception": false,
     "start_time": "2022-08-15T09:28:12.785371",
     "status": "completed"
    },
    "tags": []
   },
   "source": [
    "In this case, the float you are using has no numbers after the decimal.  \n",
    "- But what happens when you try to convert a float with a fractional part to an integer?  \n",
    "- How does the outcome of the `int` function change for positive and negative numbers?\n",
    "\n",
    "Use the next code cell to investigate and answer these questions.  Feel free to add or remove any lines of code -- it is your workspace!"
   ]
  },
  {
   "cell_type": "code",
   "execution_count": 3,
   "id": "a5f66c53",
   "metadata": {
    "execution": {
     "iopub.execute_input": "2022-08-15T09:28:12.805190Z",
     "iopub.status.busy": "2022-08-15T09:28:12.804473Z",
     "iopub.status.idle": "2022-08-15T09:28:12.811200Z",
     "shell.execute_reply": "2022-08-15T09:28:12.809781Z"
    },
    "papermill": {
     "duration": 0.016018,
     "end_time": "2022-08-15T09:28:12.813348",
     "exception": false,
     "start_time": "2022-08-15T09:28:12.797330",
     "status": "completed"
    },
    "tags": []
   },
   "outputs": [
    {
     "name": "stdout",
     "output_type": "stream",
     "text": [
      "1\n",
      "1\n",
      "-3\n",
      "-2\n"
     ]
    }
   ],
   "source": [
    "# Uncomment and run this code to get started!\n",
    "print(int(1.2321))\n",
    "print(int(1.747))\n",
    "print(int(-3.94535))\n",
    "print(int(-2.19774))"
   ]
  },
  {
   "cell_type": "markdown",
   "id": "b3635873",
   "metadata": {
    "papermill": {
     "duration": 0.006018,
     "end_time": "2022-08-15T09:28:12.825605",
     "exception": false,
     "start_time": "2022-08-15T09:28:12.819587",
     "status": "completed"
    },
    "tags": []
   },
   "source": [
    "Once you have an answer, run the code cell below to see the solution.  Viewing the solution will give you credit for answering the problem."
   ]
  },
  {
   "cell_type": "code",
   "execution_count": 4,
   "id": "29e875bc",
   "metadata": {
    "execution": {
     "iopub.execute_input": "2022-08-15T09:28:12.839573Z",
     "iopub.status.busy": "2022-08-15T09:28:12.838952Z",
     "iopub.status.idle": "2022-08-15T09:28:12.848380Z",
     "shell.execute_reply": "2022-08-15T09:28:12.847682Z"
    },
    "papermill": {
     "duration": 0.018634,
     "end_time": "2022-08-15T09:28:12.850250",
     "exception": false,
     "start_time": "2022-08-15T09:28:12.831616",
     "status": "completed"
    },
    "tags": []
   },
   "outputs": [
    {
     "data": {
      "application/javascript": [
       "parent.postMessage({\"jupyterEvent\": \"custom.exercise_interaction\", \"data\": {\"outcomeType\": 1, \"valueTowardsCompletion\": 0.2, \"interactionType\": 1, \"questionType\": 4, \"questionId\": \"1_FloatToInt\", \"learnToolsVersion\": \"0.3.4\", \"failureMessage\": \"\", \"exceptionClass\": \"\", \"trace\": \"\"}}, \"*\")"
      ],
      "text/plain": [
       "<IPython.core.display.Javascript object>"
      ]
     },
     "metadata": {},
     "output_type": "display_data"
    },
    {
     "data": {
      "text/markdown": [
       "<span style=\"color:#33cc33\">Correct:</span> \n",
       "\n",
       "Negative floats are always rounded UP to the closest integer (for instance, both -1.1 and -1.9 are rounded up to -1). Positive floats are always rounded DOWN to the closest integer (for instance, 2.1 and 2.9 are rounded down to 2)."
      ],
      "text/plain": [
       "Correct: \n",
       "\n",
       "Negative floats are always rounded UP to the closest integer (for instance, both -1.1 and -1.9 are rounded up to -1). Positive floats are always rounded DOWN to the closest integer (for instance, 2.1 and 2.9 are rounded down to 2)."
      ]
     },
     "metadata": {},
     "output_type": "display_data"
    }
   ],
   "source": [
    "# Check your answer (Run this code cell to receive credit!)\n",
    "q1.check()"
   ]
  },
  {
   "cell_type": "markdown",
   "id": "9398c539",
   "metadata": {
    "papermill": {
     "duration": 0.006184,
     "end_time": "2022-08-15T09:28:12.862930",
     "exception": false,
     "start_time": "2022-08-15T09:28:12.856746",
     "status": "completed"
    },
    "tags": []
   },
   "source": [
    "# Question 2\n",
    "\n",
    "In the tutorial, you learned about booleans (which can take a value of `True` or `False`), in addition to integers, floats, and strings.  For this question, your goal is to determine what happens when you multiply a boolean by any of these data types.  Specifically, \n",
    "- What happens when you multiply an integer or float by `True`?  What happens when you multiply them by `False`?  How does the answer change if the numbers are positive or negative?\n",
    "- What happens when you multiply a string by `True`?  By `False`?\n",
    "\n",
    "Use the next code cell for your investigation. "
   ]
  },
  {
   "cell_type": "code",
   "execution_count": 5,
   "id": "b1aeeb8c",
   "metadata": {
    "execution": {
     "iopub.execute_input": "2022-08-15T09:28:12.877476Z",
     "iopub.status.busy": "2022-08-15T09:28:12.876878Z",
     "iopub.status.idle": "2022-08-15T09:28:12.882565Z",
     "shell.execute_reply": "2022-08-15T09:28:12.881264Z"
    },
    "papermill": {
     "duration": 0.015563,
     "end_time": "2022-08-15T09:28:12.884810",
     "exception": false,
     "start_time": "2022-08-15T09:28:12.869247",
     "status": "completed"
    },
    "tags": []
   },
   "outputs": [
    {
     "name": "stdout",
     "output_type": "stream",
     "text": [
      "3\n",
      "-3.1\n",
      "<class 'str'>\n",
      "0\n"
     ]
    }
   ],
   "source": [
    "# Uncomment and run this code to get started!\n",
    "print(3 * True)\n",
    "print(-3.1 * True)\n",
    "print(type(\"abc\" * False))\n",
    "print(len(\"abc\" * False))"
   ]
  },
  {
   "cell_type": "markdown",
   "id": "ac7a7999",
   "metadata": {
    "papermill": {
     "duration": 0.006272,
     "end_time": "2022-08-15T09:28:12.897577",
     "exception": false,
     "start_time": "2022-08-15T09:28:12.891305",
     "status": "completed"
    },
    "tags": []
   },
   "source": [
    "Once you have an answer, run the code cell below to see the solution.  Viewing the solution will give you credit for answering the problem."
   ]
  },
  {
   "cell_type": "code",
   "execution_count": 6,
   "id": "1c02209c",
   "metadata": {
    "execution": {
     "iopub.execute_input": "2022-08-15T09:28:12.912347Z",
     "iopub.status.busy": "2022-08-15T09:28:12.911321Z",
     "iopub.status.idle": "2022-08-15T09:28:12.918516Z",
     "shell.execute_reply": "2022-08-15T09:28:12.917814Z"
    },
    "papermill": {
     "duration": 0.016456,
     "end_time": "2022-08-15T09:28:12.920385",
     "exception": false,
     "start_time": "2022-08-15T09:28:12.903929",
     "status": "completed"
    },
    "tags": []
   },
   "outputs": [
    {
     "data": {
      "application/javascript": [
       "parent.postMessage({\"jupyterEvent\": \"custom.exercise_interaction\", \"data\": {\"outcomeType\": 1, \"valueTowardsCompletion\": 0.2, \"interactionType\": 1, \"questionType\": 4, \"questionId\": \"2_MultiplyBooleans\", \"learnToolsVersion\": \"0.3.4\", \"failureMessage\": \"\", \"exceptionClass\": \"\", \"trace\": \"\"}}, \"*\")"
      ],
      "text/plain": [
       "<IPython.core.display.Javascript object>"
      ]
     },
     "metadata": {},
     "output_type": "display_data"
    },
    {
     "data": {
      "text/markdown": [
       "<span style=\"color:#33cc33\">Correct:</span> \n",
       "\n",
       "When you multiple an integer or float by a boolean with value `True`, it just returns that same integer or float (and is equivalent to multiplying by 1).  If you multiply an integer or float by a boolean with value `False`, it always returns 0.  This is true for both positive and negative numbers.  If you multiply a string by a boolean with value `True`, it just returns that same string.  And if you multiply a string by a boolean with value `False`, it returns an empty string (or a string with length zero)."
      ],
      "text/plain": [
       "Correct: \n",
       "\n",
       "When you multiple an integer or float by a boolean with value `True`, it just returns that same integer or float (and is equivalent to multiplying by 1).  If you multiply an integer or float by a boolean with value `False`, it always returns 0.  This is true for both positive and negative numbers.  If you multiply a string by a boolean with value `True`, it just returns that same string.  And if you multiply a string by a boolean with value `False`, it returns an empty string (or a string with length zero)."
      ]
     },
     "metadata": {},
     "output_type": "display_data"
    }
   ],
   "source": [
    "# Check your answer (Run this code cell to receive credit!)\n",
    "q2.check()"
   ]
  },
  {
   "cell_type": "markdown",
   "id": "fab7f9fe",
   "metadata": {
    "papermill": {
     "duration": 0.006369,
     "end_time": "2022-08-15T09:28:12.934157",
     "exception": false,
     "start_time": "2022-08-15T09:28:12.927788",
     "status": "completed"
    },
    "tags": []
   },
   "source": [
    "# Question 3\n",
    "\n",
    "In this question, you will build off your work from the previous exercise to write a function that estimates the value of a house.\n",
    "\n",
    "Use the next code cell to create a function `get_expected_cost` that takes as input three variables:\n",
    "- `beds` - number of bedrooms (data type float)\n",
    "- `baths` - number of bathrooms (data type float)\n",
    "- `has_basement` - whether or not the house has a basement (data type boolean)\n",
    "\n",
    "It should return the expected cost of a house with those characteristics. Assume that:\n",
    "- the expected cost for a house with 0 bedrooms and 0 bathrooms, and no basement is 80000, \n",
    "- each bedroom adds 30000 to the expected cost,\n",
    "- each bathroom adds 10000 to the expected cost, and\n",
    "- a basement adds 40000 to the expected cost.\n",
    "\n",
    "For instance,\n",
    "- a house with 1 bedroom, 1 bathroom, and no basement has an expected cost of 80000 + 30000 + 10000 = 120000.  This value will be calculated with `get_expected_cost(1, 1, False)`.\n",
    "- a house with 2 bedrooms, 1 bathroom, and a basement has an expected cost of 80000 + 2*30000 + 10000 + 40000 = 190000.  This value will be calculated with `get_expected_cost(2, 1, True)`.\n",
    "\n",
    "Remember you can always get a hint by uncommenting `q3.hint()` in the code cell following the next!"
   ]
  },
  {
   "cell_type": "code",
   "execution_count": 7,
   "id": "78be7b6a",
   "metadata": {
    "execution": {
     "iopub.execute_input": "2022-08-15T09:28:12.948989Z",
     "iopub.status.busy": "2022-08-15T09:28:12.948371Z",
     "iopub.status.idle": "2022-08-15T09:28:12.956136Z",
     "shell.execute_reply": "2022-08-15T09:28:12.955450Z"
    },
    "papermill": {
     "duration": 0.017401,
     "end_time": "2022-08-15T09:28:12.958117",
     "exception": false,
     "start_time": "2022-08-15T09:28:12.940716",
     "status": "completed"
    },
    "tags": []
   },
   "outputs": [
    {
     "data": {
      "application/javascript": [
       "parent.postMessage({\"jupyterEvent\": \"custom.exercise_interaction\", \"data\": {\"outcomeType\": 1, \"valueTowardsCompletion\": 0.2, \"interactionType\": 1, \"questionType\": 2, \"questionId\": \"3_EstimateHouseValueBool\", \"learnToolsVersion\": \"0.3.4\", \"failureMessage\": \"\", \"exceptionClass\": \"\", \"trace\": \"\"}}, \"*\")"
      ],
      "text/plain": [
       "<IPython.core.display.Javascript object>"
      ]
     },
     "metadata": {},
     "output_type": "display_data"
    },
    {
     "data": {
      "text/markdown": [
       "<span style=\"color:#33cc33\">Correct</span>"
      ],
      "text/plain": [
       "Correct"
      ]
     },
     "metadata": {},
     "output_type": "display_data"
    }
   ],
   "source": [
    "# TODO: Complete the function\n",
    "def get_expected_cost(beds, baths, has_basement):\n",
    "    if has_basement==True:\n",
    "        base = 40000\n",
    "    elif has_basement==False:\n",
    "        base = 0\n",
    "    value = 80000 + beds * 30000 + baths * 10000 + base\n",
    "    return value\n",
    "\n",
    "# Check your answer \n",
    "q3.check()"
   ]
  },
  {
   "cell_type": "code",
   "execution_count": 8,
   "id": "f2b7692c",
   "metadata": {
    "execution": {
     "iopub.execute_input": "2022-08-15T09:28:12.973777Z",
     "iopub.status.busy": "2022-08-15T09:28:12.973158Z",
     "iopub.status.idle": "2022-08-15T09:28:12.982747Z",
     "shell.execute_reply": "2022-08-15T09:28:12.981971Z"
    },
    "papermill": {
     "duration": 0.019626,
     "end_time": "2022-08-15T09:28:12.984609",
     "exception": false,
     "start_time": "2022-08-15T09:28:12.964983",
     "status": "completed"
    },
    "tags": []
   },
   "outputs": [
    {
     "data": {
      "application/javascript": [
       "parent.postMessage({\"jupyterEvent\": \"custom.exercise_interaction\", \"data\": {\"interactionType\": 2, \"questionType\": 2, \"questionId\": \"3_EstimateHouseValueBool\", \"learnToolsVersion\": \"0.3.4\", \"valueTowardsCompletion\": 0.0, \"failureMessage\": \"\", \"exceptionClass\": \"\", \"trace\": \"\", \"outcomeType\": 4}}, \"*\")"
      ],
      "text/plain": [
       "<IPython.core.display.Javascript object>"
      ]
     },
     "metadata": {},
     "output_type": "display_data"
    },
    {
     "data": {
      "text/markdown": [
       "<span style=\"color:#3366cc\">Hint:</span> The variable `has_basement` is either `True` or `False`.  What happens when you multiply it by 40000 (the value of a basement)?  Refer to the previous question if you are unsure."
      ],
      "text/plain": [
       "Hint: The variable `has_basement` is either `True` or `False`.  What happens when you multiply it by 40000 (the value of a basement)?  Refer to the previous question if you are unsure."
      ]
     },
     "metadata": {},
     "output_type": "display_data"
    },
    {
     "data": {
      "application/javascript": [
       "parent.postMessage({\"jupyterEvent\": \"custom.exercise_interaction\", \"data\": {\"interactionType\": 3, \"questionType\": 2, \"questionId\": \"3_EstimateHouseValueBool\", \"learnToolsVersion\": \"0.3.4\", \"valueTowardsCompletion\": 0.0, \"failureMessage\": \"\", \"exceptionClass\": \"\", \"trace\": \"\", \"outcomeType\": 4}}, \"*\")"
      ],
      "text/plain": [
       "<IPython.core.display.Javascript object>"
      ]
     },
     "metadata": {},
     "output_type": "display_data"
    },
    {
     "data": {
      "text/markdown": [
       "<span style=\"color:#33cc99\">Solution:</span> \n",
       "```python\n",
       "def get_expected_cost(beds, baths, has_basement):\n",
       "    value = 80000 + 30000 * beds + 10000 * baths + 40000 * has_basement\n",
       "    return value\n",
       "\n",
       "```"
      ],
      "text/plain": [
       "Solution: \n",
       "```python\n",
       "def get_expected_cost(beds, baths, has_basement):\n",
       "    value = 80000 + 30000 * beds + 10000 * baths + 40000 * has_basement\n",
       "    return value\n",
       "\n",
       "```"
      ]
     },
     "metadata": {},
     "output_type": "display_data"
    }
   ],
   "source": [
    "# Uncomment to see a hint\n",
    "q3.hint()\n",
    "\n",
    "# Uncomment to view the solution\n",
    "q3.solution()"
   ]
  },
  {
   "cell_type": "markdown",
   "id": "39fe98cb",
   "metadata": {
    "papermill": {
     "duration": 0.007472,
     "end_time": "2022-08-15T09:28:12.999608",
     "exception": false,
     "start_time": "2022-08-15T09:28:12.992136",
     "status": "completed"
    },
    "tags": []
   },
   "source": [
    "# Question 4\n",
    "\n",
    "We'll continue our study of boolean arithmetic.  For this question, your task is to provide a description of what happpens when you add booleans. \n",
    "\n",
    "Use the next code cell for your investigation.  Feel free to add or remove any lines of code - use it as your workspace!"
   ]
  },
  {
   "cell_type": "code",
   "execution_count": 9,
   "id": "079c1e37",
   "metadata": {
    "execution": {
     "iopub.execute_input": "2022-08-15T09:28:13.016091Z",
     "iopub.status.busy": "2022-08-15T09:28:13.015715Z",
     "iopub.status.idle": "2022-08-15T09:28:13.021658Z",
     "shell.execute_reply": "2022-08-15T09:28:13.020665Z"
    },
    "papermill": {
     "duration": 0.017147,
     "end_time": "2022-08-15T09:28:13.024243",
     "exception": false,
     "start_time": "2022-08-15T09:28:13.007096",
     "status": "completed"
    },
    "tags": []
   },
   "outputs": [
    {
     "name": "stdout",
     "output_type": "stream",
     "text": [
      "0\n",
      "1\n",
      "1\n",
      "2\n",
      "3\n"
     ]
    }
   ],
   "source": [
    "print(False + False)\n",
    "print(True + False)\n",
    "print(False + True)\n",
    "print(True + True)\n",
    "print(False + True + True + True)"
   ]
  },
  {
   "cell_type": "markdown",
   "id": "5345232a",
   "metadata": {
    "papermill": {
     "duration": 0.007071,
     "end_time": "2022-08-15T09:28:13.038936",
     "exception": false,
     "start_time": "2022-08-15T09:28:13.031865",
     "status": "completed"
    },
    "tags": []
   },
   "source": [
    "Once you have an answer, run the code cell below to see the solution.  Viewing the solution will give you credit for answering the problem."
   ]
  },
  {
   "cell_type": "code",
   "execution_count": 10,
   "id": "da5cdf69",
   "metadata": {
    "execution": {
     "iopub.execute_input": "2022-08-15T09:28:13.055774Z",
     "iopub.status.busy": "2022-08-15T09:28:13.055079Z",
     "iopub.status.idle": "2022-08-15T09:28:13.063593Z",
     "shell.execute_reply": "2022-08-15T09:28:13.062802Z"
    },
    "papermill": {
     "duration": 0.019508,
     "end_time": "2022-08-15T09:28:13.065763",
     "exception": false,
     "start_time": "2022-08-15T09:28:13.046255",
     "status": "completed"
    },
    "tags": []
   },
   "outputs": [
    {
     "data": {
      "application/javascript": [
       "parent.postMessage({\"jupyterEvent\": \"custom.exercise_interaction\", \"data\": {\"outcomeType\": 1, \"valueTowardsCompletion\": 0.2, \"interactionType\": 1, \"questionType\": 4, \"questionId\": \"4_AddingBooleans\", \"learnToolsVersion\": \"0.3.4\", \"failureMessage\": \"\", \"exceptionClass\": \"\", \"trace\": \"\"}}, \"*\")"
      ],
      "text/plain": [
       "<IPython.core.display.Javascript object>"
      ]
     },
     "metadata": {},
     "output_type": "display_data"
    },
    {
     "data": {
      "text/markdown": [
       "<span style=\"color:#33cc33\">Correct:</span> \n",
       "\n",
       "When you add booleans, adding `False` is equivalent to adding 0, and adding `True` is equivalent to adding 1."
      ],
      "text/plain": [
       "Correct: \n",
       "\n",
       "When you add booleans, adding `False` is equivalent to adding 0, and adding `True` is equivalent to adding 1."
      ]
     },
     "metadata": {},
     "output_type": "display_data"
    }
   ],
   "source": [
    "# Check your answer (Run this code cell to receive credit!)\n",
    "q4.check()"
   ]
  },
  {
   "cell_type": "markdown",
   "id": "c0a30d7d",
   "metadata": {
    "papermill": {
     "duration": 0.007451,
     "end_time": "2022-08-15T09:28:13.081228",
     "exception": false,
     "start_time": "2022-08-15T09:28:13.073777",
     "status": "completed"
    },
    "tags": []
   },
   "source": [
    "# 🌶️ Question 5\n",
    "\n",
    "You own an online shop where you sell rings with custom engravings.  You offer both gold plated and solid gold rings.\n",
    "- Gold plated rings have a base cost of \\\\$50, and you charge \\\\$7 per engraved unit.  \n",
    "- Solid gold rings have a base cost of \\\\$100, and you charge \\\\$10 per engraved unit.\n",
    "- Spaces and punctuation are counted as engraved units.\n",
    "\n",
    "Write a function `cost_of_project()` that takes two arguments:\n",
    "- `engraving` - a Python string with the text of the engraving\n",
    "- `solid_gold` - a Boolean that indicates whether the ring is solid gold\n",
    "\n",
    "It should return the cost of the project.  This question should be fairly challenging, and you may need a hint."
   ]
  },
  {
   "cell_type": "code",
   "execution_count": 11,
   "id": "cf8455eb",
   "metadata": {
    "execution": {
     "iopub.execute_input": "2022-08-15T09:28:13.098183Z",
     "iopub.status.busy": "2022-08-15T09:28:13.097822Z",
     "iopub.status.idle": "2022-08-15T09:28:13.106787Z",
     "shell.execute_reply": "2022-08-15T09:28:13.105676Z"
    },
    "papermill": {
     "duration": 0.020033,
     "end_time": "2022-08-15T09:28:13.108888",
     "exception": false,
     "start_time": "2022-08-15T09:28:13.088855",
     "status": "completed"
    },
    "tags": []
   },
   "outputs": [
    {
     "data": {
      "application/javascript": [
       "parent.postMessage({\"jupyterEvent\": \"custom.exercise_interaction\", \"data\": {\"outcomeType\": 1, \"valueTowardsCompletion\": 0.2, \"interactionType\": 1, \"questionType\": 2, \"questionId\": \"5_CustomEngravings\", \"learnToolsVersion\": \"0.3.4\", \"failureMessage\": \"\", \"exceptionClass\": \"\", \"trace\": \"\"}}, \"*\")"
      ],
      "text/plain": [
       "<IPython.core.display.Javascript object>"
      ]
     },
     "metadata": {},
     "output_type": "display_data"
    },
    {
     "data": {
      "text/markdown": [
       "<span style=\"color:#33cc33\">Correct</span>"
      ],
      "text/plain": [
       "Correct"
      ]
     },
     "metadata": {},
     "output_type": "display_data"
    }
   ],
   "source": [
    "def cost_of_project(engraving, solid_gold):\n",
    "    if solid_gold==True:\n",
    "        cost = 100 + len(engraving)*10\n",
    "    else:\n",
    "        cost = 50 + len(engraving)*7\n",
    "    return cost\n",
    "\n",
    "# Check your answer\n",
    "q5.check()"
   ]
  },
  {
   "cell_type": "code",
   "execution_count": 12,
   "id": "c6758886",
   "metadata": {
    "execution": {
     "iopub.execute_input": "2022-08-15T09:28:13.127245Z",
     "iopub.status.busy": "2022-08-15T09:28:13.126657Z",
     "iopub.status.idle": "2022-08-15T09:28:13.137539Z",
     "shell.execute_reply": "2022-08-15T09:28:13.136823Z"
    },
    "papermill": {
     "duration": 0.022422,
     "end_time": "2022-08-15T09:28:13.139473",
     "exception": false,
     "start_time": "2022-08-15T09:28:13.117051",
     "status": "completed"
    },
    "tags": []
   },
   "outputs": [
    {
     "data": {
      "application/javascript": [
       "parent.postMessage({\"jupyterEvent\": \"custom.exercise_interaction\", \"data\": {\"interactionType\": 2, \"questionType\": 2, \"questionId\": \"5_CustomEngravings\", \"learnToolsVersion\": \"0.3.4\", \"valueTowardsCompletion\": 0.0, \"failureMessage\": \"\", \"exceptionClass\": \"\", \"trace\": \"\", \"outcomeType\": 4}}, \"*\")"
      ],
      "text/plain": [
       "<IPython.core.display.Javascript object>"
      ]
     },
     "metadata": {},
     "output_type": "display_data"
    },
    {
     "data": {
      "text/markdown": [
       "<span style=\"color:#3366cc\">Hint:</span> There are two options - either the project uses solid gold or does not.  With this in mind, you can structure your solution like this: `cost = solid_gold * ____ + (not_solid_gold) * ____`.  You need to figure out how to fill in the blanks. Also, remember that:\n",
       "- If `solid_gold = True`, then `(not solid_gold) = False`, and if `solid_gold = False`, then `(not solid_gold) = True`.\n",
       "- Multiplying an integer by `True` is equivalent to multiplying it by 1, and multiplying an integer by `False` is equivalent to multiplying it by 0."
      ],
      "text/plain": [
       "Hint: There are two options - either the project uses solid gold or does not.  With this in mind, you can structure your solution like this: `cost = solid_gold * ____ + (not_solid_gold) * ____`.  You need to figure out how to fill in the blanks. Also, remember that:\n",
       "- If `solid_gold = True`, then `(not solid_gold) = False`, and if `solid_gold = False`, then `(not solid_gold) = True`.\n",
       "- Multiplying an integer by `True` is equivalent to multiplying it by 1, and multiplying an integer by `False` is equivalent to multiplying it by 0."
      ]
     },
     "metadata": {},
     "output_type": "display_data"
    },
    {
     "data": {
      "application/javascript": [
       "parent.postMessage({\"jupyterEvent\": \"custom.exercise_interaction\", \"data\": {\"interactionType\": 3, \"questionType\": 2, \"questionId\": \"5_CustomEngravings\", \"learnToolsVersion\": \"0.3.4\", \"valueTowardsCompletion\": 0.0, \"failureMessage\": \"\", \"exceptionClass\": \"\", \"trace\": \"\", \"outcomeType\": 4}}, \"*\")"
      ],
      "text/plain": [
       "<IPython.core.display.Javascript object>"
      ]
     },
     "metadata": {},
     "output_type": "display_data"
    },
    {
     "data": {
      "text/markdown": [
       "<span style=\"color:#33cc99\">Solution:</span> \n",
       "```python\n",
       "def cost_of_project(engraving, solid_gold):\n",
       "    cost = solid_gold * (100 + 10 * len(engraving)) + (not solid_gold) * (50 + 7 * len(engraving))\n",
       "    return cost\n",
       "\n",
       "```"
      ],
      "text/plain": [
       "Solution: \n",
       "```python\n",
       "def cost_of_project(engraving, solid_gold):\n",
       "    cost = solid_gold * (100 + 10 * len(engraving)) + (not solid_gold) * (50 + 7 * len(engraving))\n",
       "    return cost\n",
       "\n",
       "```"
      ]
     },
     "metadata": {},
     "output_type": "display_data"
    }
   ],
   "source": [
    "# Uncomment to see a hint\n",
    "q5.hint()\n",
    "\n",
    "# Uncomment to view the solution\n",
    "q5.solution()"
   ]
  },
  {
   "cell_type": "markdown",
   "id": "0133269f",
   "metadata": {
    "papermill": {
     "duration": 0.008294,
     "end_time": "2022-08-15T09:28:13.156446",
     "exception": false,
     "start_time": "2022-08-15T09:28:13.148152",
     "status": "completed"
    },
    "tags": []
   },
   "source": [
    "Run the next code cell to calculate the cost of engraving `Charlie+Denver` on a solid gold ring."
   ]
  },
  {
   "cell_type": "code",
   "execution_count": 13,
   "id": "70c5205a",
   "metadata": {
    "execution": {
     "iopub.execute_input": "2022-08-15T09:28:13.175671Z",
     "iopub.status.busy": "2022-08-15T09:28:13.175085Z",
     "iopub.status.idle": "2022-08-15T09:28:13.180728Z",
     "shell.execute_reply": "2022-08-15T09:28:13.179514Z"
    },
    "papermill": {
     "duration": 0.018608,
     "end_time": "2022-08-15T09:28:13.183775",
     "exception": false,
     "start_time": "2022-08-15T09:28:13.165167",
     "status": "completed"
    },
    "tags": []
   },
   "outputs": [
    {
     "name": "stdout",
     "output_type": "stream",
     "text": [
      "240\n"
     ]
    }
   ],
   "source": [
    "project_one = cost_of_project(\"Charlie+Denver\", True)\n",
    "print(project_one)"
   ]
  },
  {
   "cell_type": "markdown",
   "id": "570519a2",
   "metadata": {
    "papermill": {
     "duration": 0.008446,
     "end_time": "2022-08-15T09:28:13.201013",
     "exception": false,
     "start_time": "2022-08-15T09:28:13.192567",
     "status": "completed"
    },
    "tags": []
   },
   "source": [
    "Use the next code cell to calculate the cost of engraving `08/10/2000` on a gold plated ring."
   ]
  },
  {
   "cell_type": "code",
   "execution_count": 14,
   "id": "e4762059",
   "metadata": {
    "execution": {
     "iopub.execute_input": "2022-08-15T09:28:13.220466Z",
     "iopub.status.busy": "2022-08-15T09:28:13.219279Z",
     "iopub.status.idle": "2022-08-15T09:28:13.224801Z",
     "shell.execute_reply": "2022-08-15T09:28:13.223778Z"
    },
    "papermill": {
     "duration": 0.017293,
     "end_time": "2022-08-15T09:28:13.226790",
     "exception": false,
     "start_time": "2022-08-15T09:28:13.209497",
     "status": "completed"
    },
    "tags": []
   },
   "outputs": [
    {
     "name": "stdout",
     "output_type": "stream",
     "text": [
      "120\n"
     ]
    }
   ],
   "source": [
    "project_two = cost_of_project(\"08/10/2000\", False)\n",
    "print(project_two)"
   ]
  },
  {
   "cell_type": "markdown",
   "id": "a1dbc707",
   "metadata": {
    "papermill": {
     "duration": 0.008479,
     "end_time": "2022-08-15T09:28:13.244175",
     "exception": false,
     "start_time": "2022-08-15T09:28:13.235696",
     "status": "completed"
    },
    "tags": []
   },
   "source": [
    "# Keep going\n",
    "\n",
    "Continue to the next lesson to **[learn about conditions and conditional statements](https://www.kaggle.com/alexisbcook/conditions-and-conditional-statements)**."
   ]
  },
  {
   "cell_type": "markdown",
   "id": "2b560767",
   "metadata": {
    "papermill": {
     "duration": 0.008611,
     "end_time": "2022-08-15T09:28:13.261617",
     "exception": false,
     "start_time": "2022-08-15T09:28:13.253006",
     "status": "completed"
    },
    "tags": []
   },
   "source": [
    "---\n",
    "\n",
    "\n",
    "\n",
    "\n",
    "*Have questions or comments? Visit the [course discussion forum](https://www.kaggle.com/learn/intro-to-programming/discussion) to chat with other learners.*"
   ]
  }
 ],
 "metadata": {
  "kernelspec": {
   "display_name": "Python 3",
   "language": "python",
   "name": "python3"
  },
  "language_info": {
   "codemirror_mode": {
    "name": "ipython",
    "version": 3
   },
   "file_extension": ".py",
   "mimetype": "text/x-python",
   "name": "python",
   "nbconvert_exporter": "python",
   "pygments_lexer": "ipython3",
   "version": "3.7.12"
  },
  "papermill": {
   "default_parameters": {},
   "duration": 9.470062,
   "end_time": "2022-08-15T09:28:13.890314",
   "environment_variables": {},
   "exception": null,
   "input_path": "__notebook__.ipynb",
   "output_path": "__notebook__.ipynb",
   "parameters": {},
   "start_time": "2022-08-15T09:28:04.420252",
   "version": "2.3.4"
  }
 },
 "nbformat": 4,
 "nbformat_minor": 5
}
