{
 "cells": [
  {
   "cell_type": "markdown",
   "id": "c6884668",
   "metadata": {
    "papermill": {
     "duration": 0.007779,
     "end_time": "2022-08-11T06:45:44.716181",
     "exception": false,
     "start_time": "2022-08-11T06:45:44.708402",
     "status": "completed"
    },
    "tags": []
   },
   "source": [
    "**This notebook is an exercise in the [Intro to Programming](https://www.kaggle.com/learn/intro-to-programming) course.  You can reference the tutorial at [this link](https://www.kaggle.com/alexisbcook/data-types).**\n",
    "\n",
    "---\n"
   ]
  },
  {
   "cell_type": "markdown",
   "id": "97ef8322",
   "metadata": {
    "papermill": {
     "duration": 0.006243,
     "end_time": "2022-08-11T06:45:44.729039",
     "exception": false,
     "start_time": "2022-08-11T06:45:44.722796",
     "status": "completed"
    },
    "tags": []
   },
   "source": [
    "In the tutorial, you learned about four different data types: floats, integers, strings, and booleans.  In this exercise, you'll experiment with them.\n",
    "\n",
    "# Set up the notebook\n",
    "\n",
    "Run the next code cell without changes to set up the notebook."
   ]
  },
  {
   "cell_type": "code",
   "execution_count": 1,
   "id": "8d857b5d",
   "metadata": {
    "execution": {
     "iopub.execute_input": "2022-08-11T06:45:44.745171Z",
     "iopub.status.busy": "2022-08-11T06:45:44.744207Z",
     "iopub.status.idle": "2022-08-11T06:45:44.811644Z",
     "shell.execute_reply": "2022-08-11T06:45:44.810390Z"
    },
    "papermill": {
     "duration": 0.078586,
     "end_time": "2022-08-11T06:45:44.814491",
     "exception": false,
     "start_time": "2022-08-11T06:45:44.735905",
     "status": "completed"
    },
    "tags": []
   },
   "outputs": [
    {
     "name": "stdout",
     "output_type": "stream",
     "text": [
      "Setup complete.\n"
     ]
    }
   ],
   "source": [
    "# Set up the exercise\n",
    "from learntools.core import binder\n",
    "binder.bind(globals())\n",
    "from learntools.intro_to_programming.ex3 import *\n",
    "print('Setup complete.')"
   ]
  },
  {
   "cell_type": "markdown",
   "id": "301fd883",
   "metadata": {
    "papermill": {
     "duration": 0.006109,
     "end_time": "2022-08-11T06:45:44.827466",
     "exception": false,
     "start_time": "2022-08-11T06:45:44.821357",
     "status": "completed"
    },
    "tags": []
   },
   "source": [
    "# Question 1\n",
    "\n",
    "You have seen how to convert a float to an integer with the `int` function.  Try this out yourself by running the code cell below."
   ]
  },
  {
   "cell_type": "code",
   "execution_count": 2,
   "id": "dc200bf3",
   "metadata": {
    "execution": {
     "iopub.execute_input": "2022-08-11T06:45:44.842386Z",
     "iopub.status.busy": "2022-08-11T06:45:44.841613Z",
     "iopub.status.idle": "2022-08-11T06:45:44.848554Z",
     "shell.execute_reply": "2022-08-11T06:45:44.847340Z"
    },
    "papermill": {
     "duration": 0.017109,
     "end_time": "2022-08-11T06:45:44.850893",
     "exception": false,
     "start_time": "2022-08-11T06:45:44.833784",
     "status": "completed"
    },
    "tags": []
   },
   "outputs": [
    {
     "name": "stdout",
     "output_type": "stream",
     "text": [
      "1.0\n",
      "<class 'float'>\n",
      "1\n",
      "<class 'int'>\n"
     ]
    }
   ],
   "source": [
    "# Define a float\n",
    "y = 1.\n",
    "print(y)\n",
    "print(type(y))\n",
    "\n",
    "# Convert float to integer with the int function\n",
    "z = int(y)\n",
    "print(z)\n",
    "print(type(z))"
   ]
  },
  {
   "cell_type": "markdown",
   "id": "b9cfafb4",
   "metadata": {
    "papermill": {
     "duration": 0.006072,
     "end_time": "2022-08-11T06:45:44.863397",
     "exception": false,
     "start_time": "2022-08-11T06:45:44.857325",
     "status": "completed"
    },
    "tags": []
   },
   "source": [
    "In this case, the float you are using has no numbers after the decimal.  \n",
    "- But what happens when you try to convert a float with a fractional part to an integer?  \n",
    "- How does the outcome of the `int` function change for positive and negative numbers?\n",
    "\n",
    "Use the next code cell to investigate and answer these questions.  Feel free to add or remove any lines of code -- it is your workspace!"
   ]
  },
  {
   "cell_type": "code",
   "execution_count": 3,
   "id": "8e10a93a",
   "metadata": {
    "execution": {
     "iopub.execute_input": "2022-08-11T06:45:44.878172Z",
     "iopub.status.busy": "2022-08-11T06:45:44.877754Z",
     "iopub.status.idle": "2022-08-11T06:45:44.883169Z",
     "shell.execute_reply": "2022-08-11T06:45:44.882299Z"
    },
    "papermill": {
     "duration": 0.015676,
     "end_time": "2022-08-11T06:45:44.885569",
     "exception": false,
     "start_time": "2022-08-11T06:45:44.869893",
     "status": "completed"
    },
    "tags": []
   },
   "outputs": [
    {
     "name": "stdout",
     "output_type": "stream",
     "text": [
      "1\n",
      "1\n",
      "-3\n",
      "-2\n"
     ]
    }
   ],
   "source": [
    "# Uncomment and run this code to get started!\n",
    "print(int(1.2321))\n",
    "print(int(1.747))\n",
    "print(int(-3.94535))\n",
    "print(int(-2.19774))"
   ]
  },
  {
   "cell_type": "markdown",
   "id": "82e826bf",
   "metadata": {
    "papermill": {
     "duration": 0.006284,
     "end_time": "2022-08-11T06:45:44.898442",
     "exception": false,
     "start_time": "2022-08-11T06:45:44.892158",
     "status": "completed"
    },
    "tags": []
   },
   "source": [
    "Once you have an answer, run the code cell below to see the solution.  Viewing the solution will give you credit for answering the problem."
   ]
  },
  {
   "cell_type": "code",
   "execution_count": 4,
   "id": "d4d981d0",
   "metadata": {
    "execution": {
     "iopub.execute_input": "2022-08-11T06:45:44.914221Z",
     "iopub.status.busy": "2022-08-11T06:45:44.912817Z",
     "iopub.status.idle": "2022-08-11T06:45:44.924381Z",
     "shell.execute_reply": "2022-08-11T06:45:44.923515Z"
    },
    "papermill": {
     "duration": 0.021723,
     "end_time": "2022-08-11T06:45:44.926667",
     "exception": false,
     "start_time": "2022-08-11T06:45:44.904944",
     "status": "completed"
    },
    "tags": []
   },
   "outputs": [
    {
     "data": {
      "application/javascript": [
       "parent.postMessage({\"jupyterEvent\": \"custom.exercise_interaction\", \"data\": {\"outcomeType\": 1, \"valueTowardsCompletion\": 0.2, \"interactionType\": 1, \"questionType\": 4, \"questionId\": \"1_FloatToInt\", \"learnToolsVersion\": \"0.3.4\", \"failureMessage\": \"\", \"exceptionClass\": \"\", \"trace\": \"\"}}, \"*\")"
      ],
      "text/plain": [
       "<IPython.core.display.Javascript object>"
      ]
     },
     "metadata": {},
     "output_type": "display_data"
    },
    {
     "data": {
      "text/markdown": [
       "<span style=\"color:#33cc33\">Correct:</span> \n",
       "\n",
       "Negative floats are always rounded UP to the closest integer (for instance, both -1.1 and -1.9 are rounded up to -1). Positive floats are always rounded DOWN to the closest integer (for instance, 2.1 and 2.9 are rounded down to 2)."
      ],
      "text/plain": [
       "Correct: \n",
       "\n",
       "Negative floats are always rounded UP to the closest integer (for instance, both -1.1 and -1.9 are rounded up to -1). Positive floats are always rounded DOWN to the closest integer (for instance, 2.1 and 2.9 are rounded down to 2)."
      ]
     },
     "metadata": {},
     "output_type": "display_data"
    }
   ],
   "source": [
    "# Check your answer (Run this code cell to receive credit!)\n",
    "q1.check()"
   ]
  },
  {
   "cell_type": "markdown",
   "id": "e9f8a262",
   "metadata": {
    "papermill": {
     "duration": 0.006542,
     "end_time": "2022-08-11T06:45:44.940309",
     "exception": false,
     "start_time": "2022-08-11T06:45:44.933767",
     "status": "completed"
    },
    "tags": []
   },
   "source": [
    "# Question 2\n",
    "\n",
    "In the tutorial, you learned about booleans (which can take a value of `True` or `False`), in addition to integers, floats, and strings.  For this question, your goal is to determine what happens when you multiply a boolean by any of these data types.  Specifically, \n",
    "- What happens when you multiply an integer or float by `True`?  What happens when you multiply them by `False`?  How does the answer change if the numbers are positive or negative?\n",
    "- What happens when you multiply a string by `True`?  By `False`?\n",
    "\n",
    "Use the next code cell for your investigation. "
   ]
  },
  {
   "cell_type": "code",
   "execution_count": 5,
   "id": "65eb410f",
   "metadata": {
    "execution": {
     "iopub.execute_input": "2022-08-11T06:45:44.956299Z",
     "iopub.status.busy": "2022-08-11T06:45:44.955877Z",
     "iopub.status.idle": "2022-08-11T06:45:44.962461Z",
     "shell.execute_reply": "2022-08-11T06:45:44.961558Z"
    },
    "papermill": {
     "duration": 0.017769,
     "end_time": "2022-08-11T06:45:44.965119",
     "exception": false,
     "start_time": "2022-08-11T06:45:44.947350",
     "status": "completed"
    },
    "tags": []
   },
   "outputs": [
    {
     "name": "stdout",
     "output_type": "stream",
     "text": [
      "3\n",
      "-3.1\n",
      "<class 'str'>\n",
      "0\n"
     ]
    }
   ],
   "source": [
    "# Uncomment and run this code to get started!\n",
    "print(3 * True)\n",
    "print(-3.1 * True)\n",
    "print(type(\"abc\" * False))\n",
    "print(len(\"abc\" * False))"
   ]
  },
  {
   "cell_type": "markdown",
   "id": "ea1aa902",
   "metadata": {
    "papermill": {
     "duration": 0.006668,
     "end_time": "2022-08-11T06:45:44.978928",
     "exception": false,
     "start_time": "2022-08-11T06:45:44.972260",
     "status": "completed"
    },
    "tags": []
   },
   "source": [
    "Once you have an answer, run the code cell below to see the solution.  Viewing the solution will give you credit for answering the problem."
   ]
  },
  {
   "cell_type": "code",
   "execution_count": 6,
   "id": "7ecfc4dd",
   "metadata": {
    "execution": {
     "iopub.execute_input": "2022-08-11T06:45:44.995331Z",
     "iopub.status.busy": "2022-08-11T06:45:44.994029Z",
     "iopub.status.idle": "2022-08-11T06:45:45.003590Z",
     "shell.execute_reply": "2022-08-11T06:45:45.002413Z"
    },
    "papermill": {
     "duration": 0.020345,
     "end_time": "2022-08-11T06:45:45.006186",
     "exception": false,
     "start_time": "2022-08-11T06:45:44.985841",
     "status": "completed"
    },
    "tags": []
   },
   "outputs": [
    {
     "data": {
      "application/javascript": [
       "parent.postMessage({\"jupyterEvent\": \"custom.exercise_interaction\", \"data\": {\"outcomeType\": 1, \"valueTowardsCompletion\": 0.2, \"interactionType\": 1, \"questionType\": 4, \"questionId\": \"2_MultiplyBooleans\", \"learnToolsVersion\": \"0.3.4\", \"failureMessage\": \"\", \"exceptionClass\": \"\", \"trace\": \"\"}}, \"*\")"
      ],
      "text/plain": [
       "<IPython.core.display.Javascript object>"
      ]
     },
     "metadata": {},
     "output_type": "display_data"
    },
    {
     "data": {
      "text/markdown": [
       "<span style=\"color:#33cc33\">Correct:</span> \n",
       "\n",
       "When you multiple an integer or float by a boolean with value `True`, it just returns that same integer or float (and is equivalent to multiplying by 1).  If you multiply an integer or float by a boolean with value `False`, it always returns 0.  This is true for both positive and negative numbers.  If you multiply a string by a boolean with value `True`, it just returns that same string.  And if you multiply a string by a boolean with value `False`, it returns an empty string (or a string with length zero)."
      ],
      "text/plain": [
       "Correct: \n",
       "\n",
       "When you multiple an integer or float by a boolean with value `True`, it just returns that same integer or float (and is equivalent to multiplying by 1).  If you multiply an integer or float by a boolean with value `False`, it always returns 0.  This is true for both positive and negative numbers.  If you multiply a string by a boolean with value `True`, it just returns that same string.  And if you multiply a string by a boolean with value `False`, it returns an empty string (or a string with length zero)."
      ]
     },
     "metadata": {},
     "output_type": "display_data"
    }
   ],
   "source": [
    "# Check your answer (Run this code cell to receive credit!)\n",
    "q2.check()"
   ]
  },
  {
   "cell_type": "markdown",
   "id": "cdbf1e01",
   "metadata": {
    "papermill": {
     "duration": 0.006916,
     "end_time": "2022-08-11T06:45:45.021207",
     "exception": false,
     "start_time": "2022-08-11T06:45:45.014291",
     "status": "completed"
    },
    "tags": []
   },
   "source": [
    "# Question 3\n",
    "\n",
    "In this question, you will build off your work from the previous exercise to write a function that estimates the value of a house.\n",
    "\n",
    "Use the next code cell to create a function `get_expected_cost` that takes as input three variables:\n",
    "- `beds` - number of bedrooms (data type float)\n",
    "- `baths` - number of bathrooms (data type float)\n",
    "- `has_basement` - whether or not the house has a basement (data type boolean)\n",
    "\n",
    "It should return the expected cost of a house with those characteristics. Assume that:\n",
    "- the expected cost for a house with 0 bedrooms and 0 bathrooms, and no basement is 80000, \n",
    "- each bedroom adds 30000 to the expected cost,\n",
    "- each bathroom adds 10000 to the expected cost, and\n",
    "- a basement adds 40000 to the expected cost.\n",
    "\n",
    "For instance,\n",
    "- a house with 1 bedroom, 1 bathroom, and no basement has an expected cost of 80000 + 30000 + 10000 = 120000.  This value will be calculated with `get_expected_cost(1, 1, False)`.\n",
    "- a house with 2 bedrooms, 1 bathroom, and a basement has an expected cost of 80000 + 2*30000 + 10000 + 40000 = 190000.  This value will be calculated with `get_expected_cost(2, 1, True)`.\n",
    "\n",
    "Remember you can always get a hint by uncommenting `q3.hint()` in the code cell following the next!"
   ]
  },
  {
   "cell_type": "code",
   "execution_count": 7,
   "id": "437656c5",
   "metadata": {
    "execution": {
     "iopub.execute_input": "2022-08-11T06:45:45.038191Z",
     "iopub.status.busy": "2022-08-11T06:45:45.037360Z",
     "iopub.status.idle": "2022-08-11T06:45:45.048635Z",
     "shell.execute_reply": "2022-08-11T06:45:45.047291Z"
    },
    "papermill": {
     "duration": 0.022274,
     "end_time": "2022-08-11T06:45:45.051023",
     "exception": false,
     "start_time": "2022-08-11T06:45:45.028749",
     "status": "completed"
    },
    "tags": []
   },
   "outputs": [
    {
     "data": {
      "application/javascript": [
       "parent.postMessage({\"jupyterEvent\": \"custom.exercise_interaction\", \"data\": {\"outcomeType\": 1, \"valueTowardsCompletion\": 0.2, \"interactionType\": 1, \"questionType\": 2, \"questionId\": \"3_EstimateHouseValueBool\", \"learnToolsVersion\": \"0.3.4\", \"failureMessage\": \"\", \"exceptionClass\": \"\", \"trace\": \"\"}}, \"*\")"
      ],
      "text/plain": [
       "<IPython.core.display.Javascript object>"
      ]
     },
     "metadata": {},
     "output_type": "display_data"
    },
    {
     "data": {
      "text/markdown": [
       "<span style=\"color:#33cc33\">Correct</span>"
      ],
      "text/plain": [
       "Correct"
      ]
     },
     "metadata": {},
     "output_type": "display_data"
    }
   ],
   "source": [
    "# TODO: Complete the function\n",
    "def get_expected_cost(beds, baths, has_basement):\n",
    "    if has_basement==True:\n",
    "        base = 40000\n",
    "    elif has_basement==False:\n",
    "        base = 0\n",
    "    value = 80000 + beds * 30000 + baths * 10000 + base\n",
    "    return value\n",
    "\n",
    "# Check your answer \n",
    "q3.check()"
   ]
  },
  {
   "cell_type": "code",
   "execution_count": 8,
   "id": "acca8c2b",
   "metadata": {
    "execution": {
     "iopub.execute_input": "2022-08-11T06:45:45.068011Z",
     "iopub.status.busy": "2022-08-11T06:45:45.067581Z",
     "iopub.status.idle": "2022-08-11T06:45:45.079831Z",
     "shell.execute_reply": "2022-08-11T06:45:45.078701Z"
    },
    "papermill": {
     "duration": 0.023532,
     "end_time": "2022-08-11T06:45:45.082151",
     "exception": false,
     "start_time": "2022-08-11T06:45:45.058619",
     "status": "completed"
    },
    "tags": []
   },
   "outputs": [
    {
     "data": {
      "application/javascript": [
       "parent.postMessage({\"jupyterEvent\": \"custom.exercise_interaction\", \"data\": {\"interactionType\": 2, \"questionType\": 2, \"questionId\": \"3_EstimateHouseValueBool\", \"learnToolsVersion\": \"0.3.4\", \"valueTowardsCompletion\": 0.0, \"failureMessage\": \"\", \"exceptionClass\": \"\", \"trace\": \"\", \"outcomeType\": 4}}, \"*\")"
      ],
      "text/plain": [
       "<IPython.core.display.Javascript object>"
      ]
     },
     "metadata": {},
     "output_type": "display_data"
    },
    {
     "data": {
      "text/markdown": [
       "<span style=\"color:#3366cc\">Hint:</span> The variable `has_basement` is either `True` or `False`.  What happens when you multiply it by 40000 (the value of a basement)?  Refer to the previous question if you are unsure."
      ],
      "text/plain": [
       "Hint: The variable `has_basement` is either `True` or `False`.  What happens when you multiply it by 40000 (the value of a basement)?  Refer to the previous question if you are unsure."
      ]
     },
     "metadata": {},
     "output_type": "display_data"
    },
    {
     "data": {
      "application/javascript": [
       "parent.postMessage({\"jupyterEvent\": \"custom.exercise_interaction\", \"data\": {\"interactionType\": 3, \"questionType\": 2, \"questionId\": \"3_EstimateHouseValueBool\", \"learnToolsVersion\": \"0.3.4\", \"valueTowardsCompletion\": 0.0, \"failureMessage\": \"\", \"exceptionClass\": \"\", \"trace\": \"\", \"outcomeType\": 4}}, \"*\")"
      ],
      "text/plain": [
       "<IPython.core.display.Javascript object>"
      ]
     },
     "metadata": {},
     "output_type": "display_data"
    },
    {
     "data": {
      "text/markdown": [
       "<span style=\"color:#33cc99\">Solution:</span> \n",
       "```python\n",
       "def get_expected_cost(beds, baths, has_basement):\n",
       "    value = 80000 + 30000 * beds + 10000 * baths + 40000 * has_basement\n",
       "    return value\n",
       "\n",
       "```"
      ],
      "text/plain": [
       "Solution: \n",
       "```python\n",
       "def get_expected_cost(beds, baths, has_basement):\n",
       "    value = 80000 + 30000 * beds + 10000 * baths + 40000 * has_basement\n",
       "    return value\n",
       "\n",
       "```"
      ]
     },
     "metadata": {},
     "output_type": "display_data"
    }
   ],
   "source": [
    "# Uncomment to see a hint\n",
    "q3.hint()\n",
    "\n",
    "# Uncomment to view the solution\n",
    "q3.solution()"
   ]
  },
  {
   "cell_type": "markdown",
   "id": "52791b3b",
   "metadata": {
    "papermill": {
     "duration": 0.008163,
     "end_time": "2022-08-11T06:45:45.098230",
     "exception": false,
     "start_time": "2022-08-11T06:45:45.090067",
     "status": "completed"
    },
    "tags": []
   },
   "source": [
    "# Question 4\n",
    "\n",
    "We'll continue our study of boolean arithmetic.  For this question, your task is to provide a description of what happpens when you add booleans. \n",
    "\n",
    "Use the next code cell for your investigation.  Feel free to add or remove any lines of code - use it as your workspace!"
   ]
  },
  {
   "cell_type": "code",
   "execution_count": 9,
   "id": "e072c16f",
   "metadata": {
    "execution": {
     "iopub.execute_input": "2022-08-11T06:45:45.117134Z",
     "iopub.status.busy": "2022-08-11T06:45:45.116379Z",
     "iopub.status.idle": "2022-08-11T06:45:45.123550Z",
     "shell.execute_reply": "2022-08-11T06:45:45.122240Z"
    },
    "papermill": {
     "duration": 0.019747,
     "end_time": "2022-08-11T06:45:45.126159",
     "exception": false,
     "start_time": "2022-08-11T06:45:45.106412",
     "status": "completed"
    },
    "tags": []
   },
   "outputs": [
    {
     "name": "stdout",
     "output_type": "stream",
     "text": [
      "0\n",
      "1\n",
      "1\n",
      "2\n",
      "3\n"
     ]
    }
   ],
   "source": [
    "print(False + False)\n",
    "print(True + False)\n",
    "print(False + True)\n",
    "print(True + True)\n",
    "print(False + True + True + True)"
   ]
  },
  {
   "cell_type": "markdown",
   "id": "8791d246",
   "metadata": {
    "papermill": {
     "duration": 0.008927,
     "end_time": "2022-08-11T06:45:45.145406",
     "exception": false,
     "start_time": "2022-08-11T06:45:45.136479",
     "status": "completed"
    },
    "tags": []
   },
   "source": [
    "Once you have an answer, run the code cell below to see the solution.  Viewing the solution will give you credit for answering the problem."
   ]
  },
  {
   "cell_type": "code",
   "execution_count": 10,
   "id": "a74c1ed9",
   "metadata": {
    "execution": {
     "iopub.execute_input": "2022-08-11T06:45:45.165189Z",
     "iopub.status.busy": "2022-08-11T06:45:45.164657Z",
     "iopub.status.idle": "2022-08-11T06:45:45.174463Z",
     "shell.execute_reply": "2022-08-11T06:45:45.173306Z"
    },
    "papermill": {
     "duration": 0.022489,
     "end_time": "2022-08-11T06:45:45.177181",
     "exception": false,
     "start_time": "2022-08-11T06:45:45.154692",
     "status": "completed"
    },
    "tags": []
   },
   "outputs": [
    {
     "data": {
      "application/javascript": [
       "parent.postMessage({\"jupyterEvent\": \"custom.exercise_interaction\", \"data\": {\"outcomeType\": 1, \"valueTowardsCompletion\": 0.2, \"interactionType\": 1, \"questionType\": 4, \"questionId\": \"4_AddingBooleans\", \"learnToolsVersion\": \"0.3.4\", \"failureMessage\": \"\", \"exceptionClass\": \"\", \"trace\": \"\"}}, \"*\")"
      ],
      "text/plain": [
       "<IPython.core.display.Javascript object>"
      ]
     },
     "metadata": {},
     "output_type": "display_data"
    },
    {
     "data": {
      "text/markdown": [
       "<span style=\"color:#33cc33\">Correct:</span> \n",
       "\n",
       "When you add booleans, adding `False` is equivalent to adding 0, and adding `True` is equivalent to adding 1."
      ],
      "text/plain": [
       "Correct: \n",
       "\n",
       "When you add booleans, adding `False` is equivalent to adding 0, and adding `True` is equivalent to adding 1."
      ]
     },
     "metadata": {},
     "output_type": "display_data"
    }
   ],
   "source": [
    "# Check your answer (Run this code cell to receive credit!)\n",
    "q4.check()"
   ]
  },
  {
   "cell_type": "markdown",
   "id": "1c69fb2e",
   "metadata": {
    "papermill": {
     "duration": 0.008021,
     "end_time": "2022-08-11T06:45:45.196600",
     "exception": false,
     "start_time": "2022-08-11T06:45:45.188579",
     "status": "completed"
    },
    "tags": []
   },
   "source": [
    "# 🌶️ Question 5\n",
    "\n",
    "You own an online shop where you sell rings with custom engravings.  You offer both gold plated and solid gold rings.\n",
    "- Gold plated rings have a base cost of \\\\$50, and you charge \\\\$7 per engraved unit.  \n",
    "- Solid gold rings have a base cost of \\\\$100, and you charge \\\\$10 per engraved unit.\n",
    "- Spaces and punctuation are counted as engraved units.\n",
    "\n",
    "Write a function `cost_of_project()` that takes two arguments:\n",
    "- `engraving` - a Python string with the text of the engraving\n",
    "- `solid_gold` - a Boolean that indicates whether the ring is solid gold\n",
    "\n",
    "It should return the cost of the project.  This question should be fairly challenging, and you may need a hint."
   ]
  },
  {
   "cell_type": "code",
   "execution_count": 11,
   "id": "e1b07bfd",
   "metadata": {
    "execution": {
     "iopub.execute_input": "2022-08-11T06:45:45.214961Z",
     "iopub.status.busy": "2022-08-11T06:45:45.214584Z",
     "iopub.status.idle": "2022-08-11T06:45:45.225540Z",
     "shell.execute_reply": "2022-08-11T06:45:45.224125Z"
    },
    "papermill": {
     "duration": 0.023301,
     "end_time": "2022-08-11T06:45:45.228215",
     "exception": false,
     "start_time": "2022-08-11T06:45:45.204914",
     "status": "completed"
    },
    "tags": []
   },
   "outputs": [
    {
     "data": {
      "application/javascript": [
       "parent.postMessage({\"jupyterEvent\": \"custom.exercise_interaction\", \"data\": {\"outcomeType\": 1, \"valueTowardsCompletion\": 0.2, \"interactionType\": 1, \"questionType\": 2, \"questionId\": \"5_CustomEngravings\", \"learnToolsVersion\": \"0.3.4\", \"failureMessage\": \"\", \"exceptionClass\": \"\", \"trace\": \"\"}}, \"*\")"
      ],
      "text/plain": [
       "<IPython.core.display.Javascript object>"
      ]
     },
     "metadata": {},
     "output_type": "display_data"
    },
    {
     "data": {
      "text/markdown": [
       "<span style=\"color:#33cc33\">Correct</span>"
      ],
      "text/plain": [
       "Correct"
      ]
     },
     "metadata": {},
     "output_type": "display_data"
    }
   ],
   "source": [
    "def cost_of_project(engraving, solid_gold):\n",
    "    if solid_gold==True:\n",
    "        cost = 100 + len(engraving)*10\n",
    "    else:\n",
    "        cost = 50 + len(engraving)*7\n",
    "    return cost\n",
    "\n",
    "# Check your answer\n",
    "q5.check()"
   ]
  },
  {
   "cell_type": "code",
   "execution_count": 12,
   "id": "0f03a092",
   "metadata": {
    "execution": {
     "iopub.execute_input": "2022-08-11T06:45:45.247535Z",
     "iopub.status.busy": "2022-08-11T06:45:45.247130Z",
     "iopub.status.idle": "2022-08-11T06:45:45.261654Z",
     "shell.execute_reply": "2022-08-11T06:45:45.260559Z"
    },
    "papermill": {
     "duration": 0.02735,
     "end_time": "2022-08-11T06:45:45.264211",
     "exception": false,
     "start_time": "2022-08-11T06:45:45.236861",
     "status": "completed"
    },
    "tags": []
   },
   "outputs": [
    {
     "data": {
      "application/javascript": [
       "parent.postMessage({\"jupyterEvent\": \"custom.exercise_interaction\", \"data\": {\"interactionType\": 2, \"questionType\": 2, \"questionId\": \"5_CustomEngravings\", \"learnToolsVersion\": \"0.3.4\", \"valueTowardsCompletion\": 0.0, \"failureMessage\": \"\", \"exceptionClass\": \"\", \"trace\": \"\", \"outcomeType\": 4}}, \"*\")"
      ],
      "text/plain": [
       "<IPython.core.display.Javascript object>"
      ]
     },
     "metadata": {},
     "output_type": "display_data"
    },
    {
     "data": {
      "text/markdown": [
       "<span style=\"color:#3366cc\">Hint:</span> There are two options - either the project uses solid gold or does not.  With this in mind, you can structure your solution like this: `cost = solid_gold * ____ + (not_solid_gold) * ____`.  You need to figure out how to fill in the blanks. Also, remember that:\n",
       "- If `solid_gold = True`, then `(not solid_gold) = False`, and if `solid_gold = False`, then `(not solid_gold) = True`.\n",
       "- Multiplying an integer by `True` is equivalent to multiplying it by 1, and multiplying an integer by `False` is equivalent to multiplying it by 0."
      ],
      "text/plain": [
       "Hint: There are two options - either the project uses solid gold or does not.  With this in mind, you can structure your solution like this: `cost = solid_gold * ____ + (not_solid_gold) * ____`.  You need to figure out how to fill in the blanks. Also, remember that:\n",
       "- If `solid_gold = True`, then `(not solid_gold) = False`, and if `solid_gold = False`, then `(not solid_gold) = True`.\n",
       "- Multiplying an integer by `True` is equivalent to multiplying it by 1, and multiplying an integer by `False` is equivalent to multiplying it by 0."
      ]
     },
     "metadata": {},
     "output_type": "display_data"
    },
    {
     "data": {
      "application/javascript": [
       "parent.postMessage({\"jupyterEvent\": \"custom.exercise_interaction\", \"data\": {\"interactionType\": 3, \"questionType\": 2, \"questionId\": \"5_CustomEngravings\", \"learnToolsVersion\": \"0.3.4\", \"valueTowardsCompletion\": 0.0, \"failureMessage\": \"\", \"exceptionClass\": \"\", \"trace\": \"\", \"outcomeType\": 4}}, \"*\")"
      ],
      "text/plain": [
       "<IPython.core.display.Javascript object>"
      ]
     },
     "metadata": {},
     "output_type": "display_data"
    },
    {
     "data": {
      "text/markdown": [
       "<span style=\"color:#33cc99\">Solution:</span> \n",
       "```python\n",
       "def cost_of_project(engraving, solid_gold):\n",
       "    cost = solid_gold * (100 + 10 * len(engraving)) + (not solid_gold) * (50 + 7 * len(engraving))\n",
       "    return cost\n",
       "\n",
       "```"
      ],
      "text/plain": [
       "Solution: \n",
       "```python\n",
       "def cost_of_project(engraving, solid_gold):\n",
       "    cost = solid_gold * (100 + 10 * len(engraving)) + (not solid_gold) * (50 + 7 * len(engraving))\n",
       "    return cost\n",
       "\n",
       "```"
      ]
     },
     "metadata": {},
     "output_type": "display_data"
    }
   ],
   "source": [
    "# Uncomment to see a hint\n",
    "q5.hint()\n",
    "\n",
    "# Uncomment to view the solution\n",
    "q5.solution()"
   ]
  },
  {
   "cell_type": "markdown",
   "id": "309018c9",
   "metadata": {
    "papermill": {
     "duration": 0.008723,
     "end_time": "2022-08-11T06:45:45.282348",
     "exception": false,
     "start_time": "2022-08-11T06:45:45.273625",
     "status": "completed"
    },
    "tags": []
   },
   "source": [
    "Run the next code cell to calculate the cost of engraving `Charlie+Denver` on a solid gold ring."
   ]
  },
  {
   "cell_type": "code",
   "execution_count": 13,
   "id": "26ae0eec",
   "metadata": {
    "execution": {
     "iopub.execute_input": "2022-08-11T06:45:45.302194Z",
     "iopub.status.busy": "2022-08-11T06:45:45.301661Z",
     "iopub.status.idle": "2022-08-11T06:45:45.308104Z",
     "shell.execute_reply": "2022-08-11T06:45:45.306816Z"
    },
    "papermill": {
     "duration": 0.019169,
     "end_time": "2022-08-11T06:45:45.310529",
     "exception": false,
     "start_time": "2022-08-11T06:45:45.291360",
     "status": "completed"
    },
    "tags": []
   },
   "outputs": [
    {
     "name": "stdout",
     "output_type": "stream",
     "text": [
      "240\n"
     ]
    }
   ],
   "source": [
    "project_one = cost_of_project(\"Charlie+Denver\", True)\n",
    "print(project_one)"
   ]
  },
  {
   "cell_type": "markdown",
   "id": "b4bc113e",
   "metadata": {
    "papermill": {
     "duration": 0.008859,
     "end_time": "2022-08-11T06:45:45.328478",
     "exception": false,
     "start_time": "2022-08-11T06:45:45.319619",
     "status": "completed"
    },
    "tags": []
   },
   "source": [
    "Use the next code cell to calculate the cost of engraving `08/10/2000` on a gold plated ring."
   ]
  },
  {
   "cell_type": "code",
   "execution_count": 14,
   "id": "42e81086",
   "metadata": {
    "execution": {
     "iopub.execute_input": "2022-08-11T06:45:45.349121Z",
     "iopub.status.busy": "2022-08-11T06:45:45.348658Z",
     "iopub.status.idle": "2022-08-11T06:45:45.354716Z",
     "shell.execute_reply": "2022-08-11T06:45:45.353607Z"
    },
    "papermill": {
     "duration": 0.019184,
     "end_time": "2022-08-11T06:45:45.357334",
     "exception": false,
     "start_time": "2022-08-11T06:45:45.338150",
     "status": "completed"
    },
    "tags": []
   },
   "outputs": [
    {
     "name": "stdout",
     "output_type": "stream",
     "text": [
      "120\n"
     ]
    }
   ],
   "source": [
    "project_two = cost_of_project(\"08/10/2000\", False)\n",
    "print(project_two)"
   ]
  },
  {
   "cell_type": "markdown",
   "id": "4f0606e9",
   "metadata": {
    "papermill": {
     "duration": 0.009623,
     "end_time": "2022-08-11T06:45:45.376509",
     "exception": false,
     "start_time": "2022-08-11T06:45:45.366886",
     "status": "completed"
    },
    "tags": []
   },
   "source": [
    "# Keep going\n",
    "\n",
    "Continue to the next lesson to **[learn about conditions and conditional statements](https://www.kaggle.com/alexisbcook/conditions-and-conditional-statements)**."
   ]
  },
  {
   "cell_type": "markdown",
   "id": "f6c63822",
   "metadata": {
    "papermill": {
     "duration": 0.008918,
     "end_time": "2022-08-11T06:45:45.394709",
     "exception": false,
     "start_time": "2022-08-11T06:45:45.385791",
     "status": "completed"
    },
    "tags": []
   },
   "source": [
    "---\n",
    "\n",
    "\n",
    "\n",
    "\n",
    "*Have questions or comments? Visit the [course discussion forum](https://www.kaggle.com/learn/intro-to-programming/discussion) to chat with other learners.*"
   ]
  }
 ],
 "metadata": {
  "kernelspec": {
   "display_name": "Python 3",
   "language": "python",
   "name": "python3"
  },
  "language_info": {
   "codemirror_mode": {
    "name": "ipython",
    "version": 3
   },
   "file_extension": ".py",
   "mimetype": "text/x-python",
   "name": "python",
   "nbconvert_exporter": "python",
   "pygments_lexer": "ipython3",
   "version": "3.7.12"
  },
  "papermill": {
   "default_parameters": {},
   "duration": 13.205677,
   "end_time": "2022-08-11T06:45:48.433498",
   "environment_variables": {},
   "exception": null,
   "input_path": "__notebook__.ipynb",
   "output_path": "__notebook__.ipynb",
   "parameters": {},
   "start_time": "2022-08-11T06:45:35.227821",
   "version": "2.3.4"
  }
 },
 "nbformat": 4,
 "nbformat_minor": 5
}
