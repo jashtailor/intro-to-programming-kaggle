{
 "cells": [
  {
   "cell_type": "markdown",
   "id": "548fc218",
   "metadata": {
    "papermill": {
     "duration": 0.008626,
     "end_time": "2022-08-10T05:27:27.221336",
     "exception": false,
     "start_time": "2022-08-10T05:27:27.212710",
     "status": "completed"
    },
    "tags": []
   },
   "source": [
    "**This notebook is an exercise in the [Intro to Programming](https://www.kaggle.com/learn/intro-to-programming) course.  You can reference the tutorial at [this link](https://www.kaggle.com/alexisbcook/functions).**\n",
    "\n",
    "---\n"
   ]
  },
  {
   "cell_type": "markdown",
   "id": "19c223b9",
   "metadata": {
    "papermill": {
     "duration": 0.008483,
     "end_time": "2022-08-10T05:27:27.238692",
     "exception": false,
     "start_time": "2022-08-10T05:27:27.230209",
     "status": "completed"
    },
    "tags": []
   },
   "source": [
    "In the tutorial, you learned about functions. In this exercise, you'll write some of your own!\n",
    "\n",
    "# Set up the notebook\n",
    "\n",
    "Run the next code cell without changes to set up the notebook."
   ]
  },
  {
   "cell_type": "code",
   "execution_count": 1,
   "id": "cc2648a1",
   "metadata": {
    "execution": {
     "iopub.execute_input": "2022-08-10T05:27:27.254360Z",
     "iopub.status.busy": "2022-08-10T05:27:27.253325Z",
     "iopub.status.idle": "2022-08-10T05:27:27.318263Z",
     "shell.execute_reply": "2022-08-10T05:27:27.317014Z"
    },
    "papermill": {
     "duration": 0.076455,
     "end_time": "2022-08-10T05:27:27.321504",
     "exception": false,
     "start_time": "2022-08-10T05:27:27.245049",
     "status": "completed"
    },
    "tags": []
   },
   "outputs": [
    {
     "name": "stdout",
     "output_type": "stream",
     "text": [
      "Setup complete.\n"
     ]
    }
   ],
   "source": [
    "# Set up the exercise\n",
    "import math\n",
    "from learntools.core import binder\n",
    "binder.bind(globals())\n",
    "from learntools.intro_to_programming.ex2 import *\n",
    "print('Setup complete.')"
   ]
  },
  {
   "cell_type": "markdown",
   "id": "b4875121",
   "metadata": {
    "papermill": {
     "duration": 0.005905,
     "end_time": "2022-08-10T05:27:27.334574",
     "exception": false,
     "start_time": "2022-08-10T05:27:27.328669",
     "status": "completed"
    },
    "tags": []
   },
   "source": [
    "# Question 1\n",
    "\n",
    "In the [House Prices - Advanced Regression Techniques competition](https://www.kaggle.com/c/house-prices-advanced-regression-techniques/overview), you need to use information like the number of bedrooms and bathrooms to predict the price of a house.  Inspired by this competition, you'll write your own function to do this.\n",
    "\n",
    "In the next code cell, create a function `get_expected_cost()` that has two arguments:\n",
    "- `beds` - number of bedrooms \n",
    "- `baths` - number of bathrooms\n",
    "\n",
    "It should return the expected cost of a house with that number of bedrooms and bathrooms.  Assume that:\n",
    "- the expected cost for a house with 0 bedrooms and 0 bathrooms is `80000`.  \n",
    "- each bedroom adds `30000` to the expected cost\n",
    "- each bathroom adds `10000` to the expected cost.\n",
    "\n",
    "For instance, \n",
    "- a house with 1 bedroom and 1 bathroom has an expected cost of `120000`, and \n",
    "- a house with 2 bedrooms and 1 bathroom has an expected cost of `150000`."
   ]
  },
  {
   "cell_type": "code",
   "execution_count": 2,
   "id": "b6fe8eff",
   "metadata": {
    "execution": {
     "iopub.execute_input": "2022-08-10T05:27:27.348481Z",
     "iopub.status.busy": "2022-08-10T05:27:27.347999Z",
     "iopub.status.idle": "2022-08-10T05:27:27.359410Z",
     "shell.execute_reply": "2022-08-10T05:27:27.358517Z"
    },
    "papermill": {
     "duration": 0.020928,
     "end_time": "2022-08-10T05:27:27.361540",
     "exception": false,
     "start_time": "2022-08-10T05:27:27.340612",
     "status": "completed"
    },
    "tags": []
   },
   "outputs": [
    {
     "data": {
      "application/javascript": [
       "parent.postMessage({\"jupyterEvent\": \"custom.exercise_interaction\", \"data\": {\"outcomeType\": 1, \"valueTowardsCompletion\": 0.2, \"interactionType\": 1, \"questionType\": 2, \"questionId\": \"1_GetExpectedCost\", \"learnToolsVersion\": \"0.3.4\", \"failureMessage\": \"\", \"exceptionClass\": \"\", \"trace\": \"\"}}, \"*\")"
      ],
      "text/plain": [
       "<IPython.core.display.Javascript object>"
      ]
     },
     "metadata": {},
     "output_type": "display_data"
    },
    {
     "data": {
      "text/markdown": [
       "<span style=\"color:#33cc33\">Correct</span>"
      ],
      "text/plain": [
       "Correct"
      ]
     },
     "metadata": {},
     "output_type": "display_data"
    }
   ],
   "source": [
    "# TODO: Complete the function\n",
    "def get_expected_cost(beds, baths):\n",
    "    value = 80000 + beds * 30000 + baths * 10000\n",
    "    return value\n",
    "\n",
    "# Check your answer \n",
    "q1.check()"
   ]
  },
  {
   "cell_type": "code",
   "execution_count": 3,
   "id": "e78ac896",
   "metadata": {
    "execution": {
     "iopub.execute_input": "2022-08-10T05:27:27.375788Z",
     "iopub.status.busy": "2022-08-10T05:27:27.375338Z",
     "iopub.status.idle": "2022-08-10T05:27:27.386994Z",
     "shell.execute_reply": "2022-08-10T05:27:27.386086Z"
    },
    "papermill": {
     "duration": 0.021469,
     "end_time": "2022-08-10T05:27:27.389266",
     "exception": false,
     "start_time": "2022-08-10T05:27:27.367797",
     "status": "completed"
    },
    "tags": []
   },
   "outputs": [
    {
     "data": {
      "application/javascript": [
       "parent.postMessage({\"jupyterEvent\": \"custom.exercise_interaction\", \"data\": {\"interactionType\": 2, \"questionType\": 2, \"questionId\": \"1_GetExpectedCost\", \"learnToolsVersion\": \"0.3.4\", \"valueTowardsCompletion\": 0.0, \"failureMessage\": \"\", \"exceptionClass\": \"\", \"trace\": \"\", \"outcomeType\": 4}}, \"*\")"
      ],
      "text/plain": [
       "<IPython.core.display.Javascript object>"
      ]
     },
     "metadata": {},
     "output_type": "display_data"
    },
    {
     "data": {
      "text/markdown": [
       "<span style=\"color:#3366cc\">Hint:</span> The value should be the base cost (`80000`), plus the total cost of the bedrooms (`30000 * beds`), plus the total cost of the bathrooms (`10000 * baths`)."
      ],
      "text/plain": [
       "Hint: The value should be the base cost (`80000`), plus the total cost of the bedrooms (`30000 * beds`), plus the total cost of the bathrooms (`10000 * baths`)."
      ]
     },
     "metadata": {},
     "output_type": "display_data"
    },
    {
     "data": {
      "application/javascript": [
       "parent.postMessage({\"jupyterEvent\": \"custom.exercise_interaction\", \"data\": {\"interactionType\": 3, \"questionType\": 2, \"questionId\": \"1_GetExpectedCost\", \"learnToolsVersion\": \"0.3.4\", \"valueTowardsCompletion\": 0.0, \"failureMessage\": \"\", \"exceptionClass\": \"\", \"trace\": \"\", \"outcomeType\": 4}}, \"*\")"
      ],
      "text/plain": [
       "<IPython.core.display.Javascript object>"
      ]
     },
     "metadata": {},
     "output_type": "display_data"
    },
    {
     "data": {
      "text/markdown": [
       "<span style=\"color:#33cc99\">Solution:</span> \n",
       "```python\n",
       "\n",
       "def get_expected_cost(beds, baths):\n",
       "    value = 80000 + 30000 * beds + 10000 * baths\n",
       "    return value\n",
       "\n",
       "```"
      ],
      "text/plain": [
       "Solution: \n",
       "```python\n",
       "\n",
       "def get_expected_cost(beds, baths):\n",
       "    value = 80000 + 30000 * beds + 10000 * baths\n",
       "    return value\n",
       "\n",
       "```"
      ]
     },
     "metadata": {},
     "output_type": "display_data"
    }
   ],
   "source": [
    "# Uncomment to see a hint\n",
    "q1.hint()\n",
    "\n",
    "# Uncomment to view the solution\n",
    "q1.solution()"
   ]
  },
  {
   "cell_type": "markdown",
   "id": "bc44b09e",
   "metadata": {
    "papermill": {
     "duration": 0.006283,
     "end_time": "2022-08-10T05:27:27.402512",
     "exception": false,
     "start_time": "2022-08-10T05:27:27.396229",
     "status": "completed"
    },
    "tags": []
   },
   "source": [
    "# Question 2\n",
    "\n",
    "You are thinking about buying a home and want to get an idea of how much you will spend, based on the number of bedrooms and bathrooms.  You are trying to decide between four different options:\n",
    "- Option 1: house with two bedrooms and three bathrooms\n",
    "- Option 2: house with three bedrooms and two bathrooms\n",
    "- Option 3: house with three bedrooms and three bathrooms\n",
    "- Option 4: house with three bedrooms and four bathrooms\n",
    "\n",
    "Use the `get_expected_cost()` function you defined in question 1 to set `option_1`, `option_2`, `option_3`, and `option_4` to the expected cost of each option."
   ]
  },
  {
   "cell_type": "code",
   "execution_count": 4,
   "id": "a70eab82",
   "metadata": {
    "execution": {
     "iopub.execute_input": "2022-08-10T05:27:27.418051Z",
     "iopub.status.busy": "2022-08-10T05:27:27.417301Z",
     "iopub.status.idle": "2022-08-10T05:27:27.428638Z",
     "shell.execute_reply": "2022-08-10T05:27:27.426778Z"
    },
    "papermill": {
     "duration": 0.021992,
     "end_time": "2022-08-10T05:27:27.431051",
     "exception": false,
     "start_time": "2022-08-10T05:27:27.409059",
     "status": "completed"
    },
    "tags": []
   },
   "outputs": [
    {
     "name": "stdout",
     "output_type": "stream",
     "text": [
      "170000\n",
      "190000\n",
      "200000\n",
      "210000\n"
     ]
    },
    {
     "data": {
      "application/javascript": [
       "parent.postMessage({\"jupyterEvent\": \"custom.exercise_interaction\", \"data\": {\"outcomeType\": 1, \"valueTowardsCompletion\": 0.2, \"interactionType\": 1, \"questionType\": 1, \"questionId\": \"2_RunGetExpectedCost\", \"learnToolsVersion\": \"0.3.4\", \"failureMessage\": \"\", \"exceptionClass\": \"\", \"trace\": \"\"}}, \"*\")"
      ],
      "text/plain": [
       "<IPython.core.display.Javascript object>"
      ]
     },
     "metadata": {},
     "output_type": "display_data"
    },
    {
     "data": {
      "text/markdown": [
       "<span style=\"color:#33cc33\">Correct</span>"
      ],
      "text/plain": [
       "Correct"
      ]
     },
     "metadata": {},
     "output_type": "display_data"
    }
   ],
   "source": [
    "# TODO: Use the get_expected_cost function to fill in each value\n",
    "option_one = get_expected_cost(2,3)\n",
    "option_two = get_expected_cost(3,2)\n",
    "option_three = get_expected_cost(3,3)\n",
    "option_four = get_expected_cost(3,4)\n",
    "\n",
    "print(option_one)\n",
    "print(option_two)\n",
    "print(option_three)\n",
    "print(option_four)\n",
    "\n",
    "# Check your answer\n",
    "q2.check()"
   ]
  },
  {
   "cell_type": "code",
   "execution_count": 5,
   "id": "8ea2deb5",
   "metadata": {
    "execution": {
     "iopub.execute_input": "2022-08-10T05:27:27.447951Z",
     "iopub.status.busy": "2022-08-10T05:27:27.446846Z",
     "iopub.status.idle": "2022-08-10T05:27:27.458780Z",
     "shell.execute_reply": "2022-08-10T05:27:27.457689Z"
    },
    "papermill": {
     "duration": 0.02266,
     "end_time": "2022-08-10T05:27:27.460935",
     "exception": false,
     "start_time": "2022-08-10T05:27:27.438275",
     "status": "completed"
    },
    "tags": []
   },
   "outputs": [
    {
     "data": {
      "application/javascript": [
       "parent.postMessage({\"jupyterEvent\": \"custom.exercise_interaction\", \"data\": {\"interactionType\": 2, \"questionType\": 1, \"questionId\": \"2_RunGetExpectedCost\", \"learnToolsVersion\": \"0.3.4\", \"valueTowardsCompletion\": 0.0, \"failureMessage\": \"\", \"exceptionClass\": \"\", \"trace\": \"\", \"outcomeType\": 4}}, \"*\")"
      ],
      "text/plain": [
       "<IPython.core.display.Javascript object>"
      ]
     },
     "metadata": {},
     "output_type": "display_data"
    },
    {
     "data": {
      "text/markdown": [
       "<span style=\"color:#3366cc\">Hint:</span> If `option_five` needed to have the expected cost of a house with five bedrooms and three bathrooms, we would write `option_five = get_expected_cost(5, 3)`."
      ],
      "text/plain": [
       "Hint: If `option_five` needed to have the expected cost of a house with five bedrooms and three bathrooms, we would write `option_five = get_expected_cost(5, 3)`."
      ]
     },
     "metadata": {},
     "output_type": "display_data"
    },
    {
     "data": {
      "application/javascript": [
       "parent.postMessage({\"jupyterEvent\": \"custom.exercise_interaction\", \"data\": {\"interactionType\": 3, \"questionType\": 1, \"questionId\": \"2_RunGetExpectedCost\", \"learnToolsVersion\": \"0.3.4\", \"valueTowardsCompletion\": 0.0, \"failureMessage\": \"\", \"exceptionClass\": \"\", \"trace\": \"\", \"outcomeType\": 4}}, \"*\")"
      ],
      "text/plain": [
       "<IPython.core.display.Javascript object>"
      ]
     },
     "metadata": {},
     "output_type": "display_data"
    },
    {
     "data": {
      "text/markdown": [
       "<span style=\"color:#33cc99\">Solution:</span> \n",
       "```python\n",
       "# Use the get_expected_cost function to fill in each value\n",
       "option_one = get_expected_cost(2, 3)\n",
       "option_two = get_expected_cost(3, 2)\n",
       "option_three = get_expected_cost(3, 3)\n",
       "option_four = get_expected_cost(3, 4)\n",
       "\n",
       "```"
      ],
      "text/plain": [
       "Solution: \n",
       "```python\n",
       "# Use the get_expected_cost function to fill in each value\n",
       "option_one = get_expected_cost(2, 3)\n",
       "option_two = get_expected_cost(3, 2)\n",
       "option_three = get_expected_cost(3, 3)\n",
       "option_four = get_expected_cost(3, 4)\n",
       "\n",
       "```"
      ]
     },
     "metadata": {},
     "output_type": "display_data"
    }
   ],
   "source": [
    "# Uncomment to see a hint\n",
    "q2.hint()\n",
    "\n",
    "# Uncomment to view the solution\n",
    "q2.solution()"
   ]
  },
  {
   "cell_type": "markdown",
   "id": "27082c7f",
   "metadata": {
    "papermill": {
     "duration": 0.007459,
     "end_time": "2022-08-10T05:27:27.475954",
     "exception": false,
     "start_time": "2022-08-10T05:27:27.468495",
     "status": "completed"
    },
    "tags": []
   },
   "source": [
    "# Question 3\n",
    "\n",
    "You're a home decorator, and you'd like to use Python to streamline some of your work.  Specifically, you're creating a tool that you intend to use to calculate the cost of painting a room.\n",
    "\n",
    "As a first step, define a function `get_cost()` that takes as input:\n",
    "- `sqft_walls` = total square feet of walls to be painted\n",
    "- `sqft_ceiling` = square feet of ceiling to be painted\n",
    "- `sqft_per_gallon` = number of square feet that you can cover with one gallon of paint\n",
    "- `cost_per_gallon` = cost (in dollars) of one gallon of paint\n",
    "\n",
    "It should return the cost (in dollars) of putting one coat of paint on all walls and the ceiling.  Assume you can buy the exact amount of paint that you need, so you can buy partial gallons (e.g., if you need 7.523 gallons, you can buy that exact amount, instead of needing to buy 8 gallons and waste some paint).  Do not round your answer."
   ]
  },
  {
   "cell_type": "code",
   "execution_count": 6,
   "id": "27cad403",
   "metadata": {
    "execution": {
     "iopub.execute_input": "2022-08-10T05:27:27.493369Z",
     "iopub.status.busy": "2022-08-10T05:27:27.492749Z",
     "iopub.status.idle": "2022-08-10T05:27:27.500700Z",
     "shell.execute_reply": "2022-08-10T05:27:27.499929Z"
    },
    "papermill": {
     "duration": 0.019206,
     "end_time": "2022-08-10T05:27:27.502910",
     "exception": false,
     "start_time": "2022-08-10T05:27:27.483704",
     "status": "completed"
    },
    "tags": []
   },
   "outputs": [
    {
     "data": {
      "application/javascript": [
       "parent.postMessage({\"jupyterEvent\": \"custom.exercise_interaction\", \"data\": {\"outcomeType\": 1, \"valueTowardsCompletion\": 0.2, \"interactionType\": 1, \"questionType\": 2, \"questionId\": \"3_GetCostPaint\", \"learnToolsVersion\": \"0.3.4\", \"failureMessage\": \"\", \"exceptionClass\": \"\", \"trace\": \"\"}}, \"*\")"
      ],
      "text/plain": [
       "<IPython.core.display.Javascript object>"
      ]
     },
     "metadata": {},
     "output_type": "display_data"
    },
    {
     "data": {
      "text/markdown": [
       "<span style=\"color:#33cc33\">Correct</span>"
      ],
      "text/plain": [
       "Correct"
      ]
     },
     "metadata": {},
     "output_type": "display_data"
    }
   ],
   "source": [
    "# TODO: Finish defining the function\n",
    "def get_cost(sqft_walls, sqft_ceiling, sqft_per_gallon, cost_per_gallon):\n",
    "    cost = ((sqft_walls + sqft_ceiling) / sqft_per_gallon) * cost_per_gallon\n",
    "    return cost\n",
    "\n",
    "# Check your answer\n",
    "q3.check()"
   ]
  },
  {
   "cell_type": "code",
   "execution_count": 7,
   "id": "791878a7",
   "metadata": {
    "execution": {
     "iopub.execute_input": "2022-08-10T05:27:27.520863Z",
     "iopub.status.busy": "2022-08-10T05:27:27.520242Z",
     "iopub.status.idle": "2022-08-10T05:27:27.530124Z",
     "shell.execute_reply": "2022-08-10T05:27:27.529277Z"
    },
    "papermill": {
     "duration": 0.021519,
     "end_time": "2022-08-10T05:27:27.532389",
     "exception": false,
     "start_time": "2022-08-10T05:27:27.510870",
     "status": "completed"
    },
    "tags": []
   },
   "outputs": [
    {
     "data": {
      "application/javascript": [
       "parent.postMessage({\"jupyterEvent\": \"custom.exercise_interaction\", \"data\": {\"interactionType\": 2, \"questionType\": 2, \"questionId\": \"3_GetCostPaint\", \"learnToolsVersion\": \"0.3.4\", \"valueTowardsCompletion\": 0.0, \"failureMessage\": \"\", \"exceptionClass\": \"\", \"trace\": \"\", \"outcomeType\": 4}}, \"*\")"
      ],
      "text/plain": [
       "<IPython.core.display.Javascript object>"
      ]
     },
     "metadata": {},
     "output_type": "display_data"
    },
    {
     "data": {
      "text/markdown": [
       "<span style=\"color:#3366cc\">Hint:</span> Begin by calculating the total number of square feet that need to be painted. Then, based on that, figure out how many gallons you need.  Then, once you know how many gallons you need, you can calculate the total cost of the project."
      ],
      "text/plain": [
       "Hint: Begin by calculating the total number of square feet that need to be painted. Then, based on that, figure out how many gallons you need.  Then, once you know how many gallons you need, you can calculate the total cost of the project."
      ]
     },
     "metadata": {},
     "output_type": "display_data"
    },
    {
     "data": {
      "application/javascript": [
       "parent.postMessage({\"jupyterEvent\": \"custom.exercise_interaction\", \"data\": {\"interactionType\": 3, \"questionType\": 2, \"questionId\": \"3_GetCostPaint\", \"learnToolsVersion\": \"0.3.4\", \"valueTowardsCompletion\": 0.0, \"failureMessage\": \"\", \"exceptionClass\": \"\", \"trace\": \"\", \"outcomeType\": 4}}, \"*\")"
      ],
      "text/plain": [
       "<IPython.core.display.Javascript object>"
      ]
     },
     "metadata": {},
     "output_type": "display_data"
    },
    {
     "data": {
      "text/markdown": [
       "<span style=\"color:#33cc99\">Solution:</span> \n",
       "```python\n",
       "\n",
       "def get_cost(sqft_walls, sqft_ceiling, sqft_per_gallon, cost_per_gallon):\n",
       "    total_sqft = sqft_walls + sqft_ceiling\n",
       "    gallons_needed = total_sqft / sqft_per_gallon\n",
       "    cost = cost_per_gallon * gallons_needed\n",
       "    return cost\n",
       "\n",
       "```"
      ],
      "text/plain": [
       "Solution: \n",
       "```python\n",
       "\n",
       "def get_cost(sqft_walls, sqft_ceiling, sqft_per_gallon, cost_per_gallon):\n",
       "    total_sqft = sqft_walls + sqft_ceiling\n",
       "    gallons_needed = total_sqft / sqft_per_gallon\n",
       "    cost = cost_per_gallon * gallons_needed\n",
       "    return cost\n",
       "\n",
       "```"
      ]
     },
     "metadata": {},
     "output_type": "display_data"
    }
   ],
   "source": [
    "# Uncomment to see a hint\n",
    "q3.hint()\n",
    "\n",
    "# Uncomment to view the solution\n",
    "q3.solution()"
   ]
  },
  {
   "cell_type": "markdown",
   "id": "d5e99980",
   "metadata": {
    "papermill": {
     "duration": 0.008008,
     "end_time": "2022-08-10T05:27:27.549881",
     "exception": false,
     "start_time": "2022-08-10T05:27:27.541873",
     "status": "completed"
    },
    "tags": []
   },
   "source": [
    "# Question 4\n",
    "\n",
    "Use the `get_cost()` function you defined in Question 3 to calculate the cost of applying one coat of paint to a room with:\n",
    "- 432 square feet of walls, and\n",
    "- 144 square feet of ceiling.\n",
    "\n",
    "Assume that one gallon of paint covers 400 square feet and costs $15.  As in Question 3, assume you can buy partial gallons of paint.  Do not round your answer."
   ]
  },
  {
   "cell_type": "code",
   "execution_count": 8,
   "id": "2db2edde",
   "metadata": {
    "execution": {
     "iopub.execute_input": "2022-08-10T05:27:27.568400Z",
     "iopub.status.busy": "2022-08-10T05:27:27.567744Z",
     "iopub.status.idle": "2022-08-10T05:27:27.575855Z",
     "shell.execute_reply": "2022-08-10T05:27:27.574800Z"
    },
    "papermill": {
     "duration": 0.0202,
     "end_time": "2022-08-10T05:27:27.578236",
     "exception": false,
     "start_time": "2022-08-10T05:27:27.558036",
     "status": "completed"
    },
    "tags": []
   },
   "outputs": [
    {
     "data": {
      "application/javascript": [
       "parent.postMessage({\"jupyterEvent\": \"custom.exercise_interaction\", \"data\": {\"outcomeType\": 1, \"valueTowardsCompletion\": 0.2, \"interactionType\": 1, \"questionType\": 1, \"questionId\": \"4_GetCostPaintExample\", \"learnToolsVersion\": \"0.3.4\", \"failureMessage\": \"\", \"exceptionClass\": \"\", \"trace\": \"\"}}, \"*\")"
      ],
      "text/plain": [
       "<IPython.core.display.Javascript object>"
      ]
     },
     "metadata": {},
     "output_type": "display_data"
    },
    {
     "data": {
      "text/markdown": [
       "<span style=\"color:#33cc33\">Correct</span>"
      ],
      "text/plain": [
       "Correct"
      ]
     },
     "metadata": {},
     "output_type": "display_data"
    }
   ],
   "source": [
    "# TODO: Set the project_cost variable to the cost of the project\n",
    "project_cost = get_cost(432,144,400,15)\n",
    "\n",
    "# Check your answer\n",
    "q4.check()"
   ]
  },
  {
   "cell_type": "code",
   "execution_count": 9,
   "id": "0b4c88bf",
   "metadata": {
    "execution": {
     "iopub.execute_input": "2022-08-10T05:27:27.596889Z",
     "iopub.status.busy": "2022-08-10T05:27:27.596485Z",
     "iopub.status.idle": "2022-08-10T05:27:27.606468Z",
     "shell.execute_reply": "2022-08-10T05:27:27.605481Z"
    },
    "papermill": {
     "duration": 0.021822,
     "end_time": "2022-08-10T05:27:27.608538",
     "exception": false,
     "start_time": "2022-08-10T05:27:27.586716",
     "status": "completed"
    },
    "tags": []
   },
   "outputs": [
    {
     "data": {
      "application/javascript": [
       "parent.postMessage({\"jupyterEvent\": \"custom.exercise_interaction\", \"data\": {\"interactionType\": 2, \"questionType\": 1, \"questionId\": \"4_GetCostPaintExample\", \"learnToolsVersion\": \"0.3.4\", \"valueTowardsCompletion\": 0.0, \"failureMessage\": \"\", \"exceptionClass\": \"\", \"trace\": \"\", \"outcomeType\": 4}}, \"*\")"
      ],
      "text/plain": [
       "<IPython.core.display.Javascript object>"
      ]
     },
     "metadata": {},
     "output_type": "display_data"
    },
    {
     "data": {
      "text/markdown": [
       "<span style=\"color:#3366cc\">Hint:</span> If we needed to instead calculate the cost of applying one coat of paint to a room with 800 square feet of walls and 160 square feet of ceiling, and one gallon of paint covered 300 square feet and cost $10, we would set `project_cost = get_cost(800, 160, 300, 10)`."
      ],
      "text/plain": [
       "Hint: If we needed to instead calculate the cost of applying one coat of paint to a room with 800 square feet of walls and 160 square feet of ceiling, and one gallon of paint covered 300 square feet and cost $10, we would set `project_cost = get_cost(800, 160, 300, 10)`."
      ]
     },
     "metadata": {},
     "output_type": "display_data"
    },
    {
     "data": {
      "application/javascript": [
       "parent.postMessage({\"jupyterEvent\": \"custom.exercise_interaction\", \"data\": {\"interactionType\": 3, \"questionType\": 1, \"questionId\": \"4_GetCostPaintExample\", \"learnToolsVersion\": \"0.3.4\", \"valueTowardsCompletion\": 0.0, \"failureMessage\": \"\", \"exceptionClass\": \"\", \"trace\": \"\", \"outcomeType\": 4}}, \"*\")"
      ],
      "text/plain": [
       "<IPython.core.display.Javascript object>"
      ]
     },
     "metadata": {},
     "output_type": "display_data"
    },
    {
     "data": {
      "text/markdown": [
       "<span style=\"color:#33cc99\">Solution:</span> \n",
       "```python\n",
       "# Set the project_cost variable to the cost of the project\n",
       "project_cost = get_cost(432, 144, 400, 15) \n",
       "\n",
       "```"
      ],
      "text/plain": [
       "Solution: \n",
       "```python\n",
       "# Set the project_cost variable to the cost of the project\n",
       "project_cost = get_cost(432, 144, 400, 15) \n",
       "\n",
       "```"
      ]
     },
     "metadata": {},
     "output_type": "display_data"
    }
   ],
   "source": [
    "# Uncomment to see a hint\n",
    "q4.hint()\n",
    "\n",
    "# Uncomment to view the solution\n",
    "q4.solution()"
   ]
  },
  {
   "cell_type": "markdown",
   "id": "f63212e1",
   "metadata": {
    "papermill": {
     "duration": 0.008581,
     "end_time": "2022-08-10T05:27:27.626126",
     "exception": false,
     "start_time": "2022-08-10T05:27:27.617545",
     "status": "completed"
    },
    "tags": []
   },
   "source": [
    "# 🌶️ Question 5\n",
    "\n",
    "Now say you can no longer buy fractions of a gallon.  (For instance, if you need 4.3 gallons to do a project, then you have to buy 5 gallons of paint.)\n",
    "\n",
    "With this new scenario, you will create a new function `get_actual_cost` that uses the same inputs and calculates the cost of your project.\n",
    "\n",
    "One function that you'll need to use to do this is `math.ceil()`.  We demonstrate usage of this function in the code cell below.  It takes as a number as input and rounds the number up to the nearest integer.  \n",
    "\n",
    "Run the next code cell to test this function for yourself.  Feel free to change the value of `test_value` and make sure `math.ceil()` returns the number you expect."
   ]
  },
  {
   "cell_type": "code",
   "execution_count": 10,
   "id": "05692c76",
   "metadata": {
    "execution": {
     "iopub.execute_input": "2022-08-10T05:27:27.646042Z",
     "iopub.status.busy": "2022-08-10T05:27:27.645427Z",
     "iopub.status.idle": "2022-08-10T05:27:27.651156Z",
     "shell.execute_reply": "2022-08-10T05:27:27.649954Z"
    },
    "papermill": {
     "duration": 0.019007,
     "end_time": "2022-08-10T05:27:27.654047",
     "exception": false,
     "start_time": "2022-08-10T05:27:27.635040",
     "status": "completed"
    },
    "tags": []
   },
   "outputs": [
    {
     "name": "stdout",
     "output_type": "stream",
     "text": [
      "3\n"
     ]
    }
   ],
   "source": [
    "test_value = 2.17\n",
    "\n",
    "rounded_value = math.ceil(test_value)\n",
    "print(rounded_value)"
   ]
  },
  {
   "cell_type": "markdown",
   "id": "8cc546ab",
   "metadata": {
    "papermill": {
     "duration": 0.008563,
     "end_time": "2022-08-10T05:27:27.671435",
     "exception": false,
     "start_time": "2022-08-10T05:27:27.662872",
     "status": "completed"
    },
    "tags": []
   },
   "source": [
    "Use the next code cell to define the function `get_actual_cost()`.  You'll need to use the `math.ceil()` function to do this.\n",
    "\n",
    "When answering this question, note that it's completely valid to define a function that makes use of another function.  For instance, we can define a function `round_up_and_divide_by_three` that makes use of the `math.ceil` function:\n",
    "```\n",
    "def round_up_and_divide_by_three(num):\n",
    "    new_value = math.ceil(num)\n",
    "    final_value = new_value / 3\n",
    "    return final_value\n",
    "```"
   ]
  },
  {
   "cell_type": "code",
   "execution_count": 11,
   "id": "e782046b",
   "metadata": {
    "execution": {
     "iopub.execute_input": "2022-08-10T05:27:27.690993Z",
     "iopub.status.busy": "2022-08-10T05:27:27.690568Z",
     "iopub.status.idle": "2022-08-10T05:27:27.701476Z",
     "shell.execute_reply": "2022-08-10T05:27:27.700190Z"
    },
    "papermill": {
     "duration": 0.023404,
     "end_time": "2022-08-10T05:27:27.703717",
     "exception": false,
     "start_time": "2022-08-10T05:27:27.680313",
     "status": "completed"
    },
    "tags": []
   },
   "outputs": [
    {
     "data": {
      "application/javascript": [
       "parent.postMessage({\"jupyterEvent\": \"custom.exercise_interaction\", \"data\": {\"outcomeType\": 1, \"valueTowardsCompletion\": 0.2, \"interactionType\": 1, \"questionType\": 2, \"questionId\": \"5_NoMoreFractions\", \"learnToolsVersion\": \"0.3.4\", \"failureMessage\": \"\", \"exceptionClass\": \"\", \"trace\": \"\"}}, \"*\")"
      ],
      "text/plain": [
       "<IPython.core.display.Javascript object>"
      ]
     },
     "metadata": {},
     "output_type": "display_data"
    },
    {
     "data": {
      "text/markdown": [
       "<span style=\"color:#33cc33\">Correct</span>"
      ],
      "text/plain": [
       "Correct"
      ]
     },
     "metadata": {},
     "output_type": "display_data"
    }
   ],
   "source": [
    "def get_actual_cost(sqft_walls, sqft_ceiling, sqft_per_gallon, cost_per_gallon):\n",
    "    cost = math.ceil((sqft_walls + sqft_ceiling) / sqft_per_gallon) * cost_per_gallon\n",
    "    return cost\n",
    "\n",
    "# Check your answer\n",
    "q5.check()"
   ]
  },
  {
   "cell_type": "code",
   "execution_count": 12,
   "id": "cb1a49b7",
   "metadata": {
    "execution": {
     "iopub.execute_input": "2022-08-10T05:27:27.724395Z",
     "iopub.status.busy": "2022-08-10T05:27:27.723287Z",
     "iopub.status.idle": "2022-08-10T05:27:27.736025Z",
     "shell.execute_reply": "2022-08-10T05:27:27.735175Z"
    },
    "papermill": {
     "duration": 0.025309,
     "end_time": "2022-08-10T05:27:27.738113",
     "exception": false,
     "start_time": "2022-08-10T05:27:27.712804",
     "status": "completed"
    },
    "tags": []
   },
   "outputs": [
    {
     "data": {
      "application/javascript": [
       "parent.postMessage({\"jupyterEvent\": \"custom.exercise_interaction\", \"data\": {\"interactionType\": 2, \"questionType\": 2, \"questionId\": \"5_NoMoreFractions\", \"learnToolsVersion\": \"0.3.4\", \"valueTowardsCompletion\": 0.0, \"failureMessage\": \"\", \"exceptionClass\": \"\", \"trace\": \"\", \"outcomeType\": 4}}, \"*\")"
      ],
      "text/plain": [
       "<IPython.core.display.Javascript object>"
      ]
     },
     "metadata": {},
     "output_type": "display_data"
    },
    {
     "data": {
      "text/markdown": [
       "<span style=\"color:#3366cc\">Hint:</span> Begin with the `get_cost()` function as a starting point.  The only change you need to make is to add `math.ceil()` to round up the number of gallons that need to be purchased. Can you figure out where to add it to the function?"
      ],
      "text/plain": [
       "Hint: Begin with the `get_cost()` function as a starting point.  The only change you need to make is to add `math.ceil()` to round up the number of gallons that need to be purchased. Can you figure out where to add it to the function?"
      ]
     },
     "metadata": {},
     "output_type": "display_data"
    },
    {
     "data": {
      "application/javascript": [
       "parent.postMessage({\"jupyterEvent\": \"custom.exercise_interaction\", \"data\": {\"interactionType\": 3, \"questionType\": 2, \"questionId\": \"5_NoMoreFractions\", \"learnToolsVersion\": \"0.3.4\", \"valueTowardsCompletion\": 0.0, \"failureMessage\": \"\", \"exceptionClass\": \"\", \"trace\": \"\", \"outcomeType\": 4}}, \"*\")"
      ],
      "text/plain": [
       "<IPython.core.display.Javascript object>"
      ]
     },
     "metadata": {},
     "output_type": "display_data"
    },
    {
     "data": {
      "text/markdown": [
       "<span style=\"color:#33cc99\">Solution:</span> \n",
       "```python\n",
       "def get_actual_cost(sqft_walls, sqft_ceiling, sqft_per_gallon, cost_per_gallon):\n",
       "    total_sqft = sqft_walls + sqft_ceiling\n",
       "    gallons_needed = total_sqft / sqft_per_gallon\n",
       "    gallons_to_buy = math.ceil(gallons_needed)\n",
       "    cost = cost_per_gallon * gallons_to_buy\n",
       "    return cost\n",
       "\n",
       "```"
      ],
      "text/plain": [
       "Solution: \n",
       "```python\n",
       "def get_actual_cost(sqft_walls, sqft_ceiling, sqft_per_gallon, cost_per_gallon):\n",
       "    total_sqft = sqft_walls + sqft_ceiling\n",
       "    gallons_needed = total_sqft / sqft_per_gallon\n",
       "    gallons_to_buy = math.ceil(gallons_needed)\n",
       "    cost = cost_per_gallon * gallons_to_buy\n",
       "    return cost\n",
       "\n",
       "```"
      ]
     },
     "metadata": {},
     "output_type": "display_data"
    }
   ],
   "source": [
    "# Uncomment to see a hint\n",
    "q5.hint()\n",
    "\n",
    "# Uncomment to view the solution\n",
    "q5.solution()"
   ]
  },
  {
   "cell_type": "markdown",
   "id": "aa88a300",
   "metadata": {
    "papermill": {
     "duration": 0.009483,
     "end_time": "2022-08-10T05:27:27.757252",
     "exception": false,
     "start_time": "2022-08-10T05:27:27.747769",
     "status": "completed"
    },
    "tags": []
   },
   "source": [
    "Once your function is verified as correct, run the next code cell to calculate the updated cost of your project."
   ]
  },
  {
   "cell_type": "code",
   "execution_count": 13,
   "id": "8ef82ae5",
   "metadata": {
    "execution": {
     "iopub.execute_input": "2022-08-10T05:27:27.778410Z",
     "iopub.status.busy": "2022-08-10T05:27:27.777958Z",
     "iopub.status.idle": "2022-08-10T05:27:27.784734Z",
     "shell.execute_reply": "2022-08-10T05:27:27.783820Z"
    },
    "papermill": {
     "duration": 0.019918,
     "end_time": "2022-08-10T05:27:27.786824",
     "exception": false,
     "start_time": "2022-08-10T05:27:27.766906",
     "status": "completed"
    },
    "tags": []
   },
   "outputs": [
    {
     "data": {
      "text/plain": [
       "30"
      ]
     },
     "execution_count": 13,
     "metadata": {},
     "output_type": "execute_result"
    }
   ],
   "source": [
    "get_actual_cost(432, 144, 400, 15) "
   ]
  },
  {
   "cell_type": "markdown",
   "id": "e3f2eced",
   "metadata": {
    "papermill": {
     "duration": 0.009749,
     "end_time": "2022-08-10T05:27:27.806618",
     "exception": false,
     "start_time": "2022-08-10T05:27:27.796869",
     "status": "completed"
    },
    "tags": []
   },
   "source": [
    "Say you're working with a slightly larger room.  Run the next code cell to calculate the cost of the project."
   ]
  },
  {
   "cell_type": "code",
   "execution_count": 14,
   "id": "2f3be593",
   "metadata": {
    "execution": {
     "iopub.execute_input": "2022-08-10T05:27:27.829008Z",
     "iopub.status.busy": "2022-08-10T05:27:27.828262Z",
     "iopub.status.idle": "2022-08-10T05:27:27.834973Z",
     "shell.execute_reply": "2022-08-10T05:27:27.833865Z"
    },
    "papermill": {
     "duration": 0.020944,
     "end_time": "2022-08-10T05:27:27.837318",
     "exception": false,
     "start_time": "2022-08-10T05:27:27.816374",
     "status": "completed"
    },
    "tags": []
   },
   "outputs": [
    {
     "data": {
      "text/plain": [
       "45"
      ]
     },
     "execution_count": 14,
     "metadata": {},
     "output_type": "execute_result"
    }
   ],
   "source": [
    "get_actual_cost(594, 288, 400, 15) "
   ]
  },
  {
   "cell_type": "markdown",
   "id": "c2f3678a",
   "metadata": {
    "papermill": {
     "duration": 0.009609,
     "end_time": "2022-08-10T05:27:27.857617",
     "exception": false,
     "start_time": "2022-08-10T05:27:27.848008",
     "status": "completed"
    },
    "tags": []
   },
   "source": [
    "# Keep going\n",
    "\n",
    "Continue to learn about **[data types](https://www.kaggle.com/alexisbcook/data-types)**."
   ]
  },
  {
   "cell_type": "markdown",
   "id": "c1b7696a",
   "metadata": {
    "papermill": {
     "duration": 0.009427,
     "end_time": "2022-08-10T05:27:27.876752",
     "exception": false,
     "start_time": "2022-08-10T05:27:27.867325",
     "status": "completed"
    },
    "tags": []
   },
   "source": [
    "---\n",
    "\n",
    "\n",
    "\n",
    "\n",
    "*Have questions or comments? Visit the [course discussion forum](https://www.kaggle.com/learn/intro-to-programming/discussion) to chat with other learners.*"
   ]
  }
 ],
 "metadata": {
  "kernelspec": {
   "display_name": "Python 3",
   "language": "python",
   "name": "python3"
  },
  "language_info": {
   "codemirror_mode": {
    "name": "ipython",
    "version": 3
   },
   "file_extension": ".py",
   "mimetype": "text/x-python",
   "name": "python",
   "nbconvert_exporter": "python",
   "pygments_lexer": "ipython3",
   "version": "3.7.12"
  },
  "papermill": {
   "default_parameters": {},
   "duration": 11.821689,
   "end_time": "2022-08-10T05:27:28.507329",
   "environment_variables": {},
   "exception": null,
   "input_path": "__notebook__.ipynb",
   "output_path": "__notebook__.ipynb",
   "parameters": {},
   "start_time": "2022-08-10T05:27:16.685640",
   "version": "2.3.4"
  }
 },
 "nbformat": 4,
 "nbformat_minor": 5
}
