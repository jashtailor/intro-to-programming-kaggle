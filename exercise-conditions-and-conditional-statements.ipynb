{
 "cells": [
  {
   "cell_type": "markdown",
   "id": "c2e9e196",
   "metadata": {
    "papermill": {
     "duration": 0.009215,
     "end_time": "2022-08-12T11:53:24.472247",
     "exception": false,
     "start_time": "2022-08-12T11:53:24.463032",
     "status": "completed"
    },
    "tags": []
   },
   "source": [
    "**This notebook is an exercise in the [Intro to Programming](https://www.kaggle.com/learn/intro-to-programming) course.  You can reference the tutorial at [this link](https://www.kaggle.com/alexisbcook/conditions-and-conditional-statements).**\n",
    "\n",
    "---\n"
   ]
  },
  {
   "cell_type": "markdown",
   "id": "fab6bd4f",
   "metadata": {
    "papermill": {
     "duration": 0.006811,
     "end_time": "2022-08-12T11:53:24.486290",
     "exception": false,
     "start_time": "2022-08-12T11:53:24.479479",
     "status": "completed"
    },
    "tags": []
   },
   "source": [
    "In the tutorial, you learned about conditions and conditional statements. In this exercise, you will use what you learned to answer several questions.\n",
    "\n",
    "# Set up the notebook\n",
    "\n",
    "Run the next code cell without changes to set up the notebook."
   ]
  },
  {
   "cell_type": "code",
   "execution_count": 1,
   "id": "6cbf6449",
   "metadata": {
    "execution": {
     "iopub.execute_input": "2022-08-12T11:53:24.502868Z",
     "iopub.status.busy": "2022-08-12T11:53:24.502274Z",
     "iopub.status.idle": "2022-08-12T11:53:24.571899Z",
     "shell.execute_reply": "2022-08-12T11:53:24.570409Z"
    },
    "papermill": {
     "duration": 0.081463,
     "end_time": "2022-08-12T11:53:24.574784",
     "exception": false,
     "start_time": "2022-08-12T11:53:24.493321",
     "status": "completed"
    },
    "tags": []
   },
   "outputs": [
    {
     "name": "stdout",
     "output_type": "stream",
     "text": [
      "Setup complete.\n"
     ]
    }
   ],
   "source": [
    "from learntools.core import binder\n",
    "binder.bind(globals())\n",
    "from learntools.intro_to_programming.ex4 import *\n",
    "print('Setup complete.')"
   ]
  },
  {
   "cell_type": "markdown",
   "id": "26e649f6",
   "metadata": {
    "papermill": {
     "duration": 0.006728,
     "end_time": "2022-08-12T11:53:24.589049",
     "exception": false,
     "start_time": "2022-08-12T11:53:24.582321",
     "status": "completed"
    },
    "tags": []
   },
   "source": [
    "# Question 1\n",
    "\n",
    "You work at a college admissions office.  When inspecting a dataset of college applicants, you notice that some students have represented their grades with letters (`\"A\"`, `\"B\"`, `\"C\"`, `\"D\"`, `\"F\"`), whereas others have represented their grades with a number between 0 and 100.\n",
    "\n",
    "You realize that for consistency, all of the grades should be formatted in the same way, and you decide to format them all as letters.  For the conversion, you decide to assign:\n",
    "- `\"A\"` - any grade 90-100, inclusive\n",
    "- `\"B\"` - any grade 80-89, inclusive\n",
    "- `\"C\"` - any grade 70-79, inclusive\n",
    "- `\"D\"` - any grade 60-69, inclusive\n",
    "- `\"F\"` - any grade <60\n",
    "\n",
    "Write a function `get_grade()` that takes as input:\n",
    "- `score` - an integer 0-100 corresponding to a numerical grade\n",
    "\n",
    "It should return a Python string with the letter grade that it corresponds to.  For instance,\n",
    "- A score of 85 corresponds to a B grade.  In other words, `get_grade(85)` should return `\"B\"`.\n",
    "- A score of 49 corresponds to an F grade.  In other words, `get_grade(49)` should return `\"F\"`.\n",
    "\n",
    "Make sure that when supplying the grade that is returned by the function, it is enclosed in quotes.  (For instance, if you want to return `\"A\"`, you should write `return \"A\"` and not `return A`.)"
   ]
  },
  {
   "cell_type": "code",
   "execution_count": 2,
   "id": "fd6bcaed",
   "metadata": {
    "execution": {
     "iopub.execute_input": "2022-08-12T11:53:24.605113Z",
     "iopub.status.busy": "2022-08-12T11:53:24.604690Z",
     "iopub.status.idle": "2022-08-12T11:53:24.616797Z",
     "shell.execute_reply": "2022-08-12T11:53:24.615962Z"
    },
    "papermill": {
     "duration": 0.02302,
     "end_time": "2022-08-12T11:53:24.619137",
     "exception": false,
     "start_time": "2022-08-12T11:53:24.596117",
     "status": "completed"
    },
    "tags": []
   },
   "outputs": [
    {
     "data": {
      "application/javascript": [
       "parent.postMessage({\"jupyterEvent\": \"custom.exercise_interaction\", \"data\": {\"outcomeType\": 1, \"valueTowardsCompletion\": 0.2, \"interactionType\": 1, \"questionType\": 2, \"questionId\": \"1_GetGrade\", \"learnToolsVersion\": \"0.3.4\", \"failureMessage\": \"\", \"exceptionClass\": \"\", \"trace\": \"\"}}, \"*\")"
      ],
      "text/plain": [
       "<IPython.core.display.Javascript object>"
      ]
     },
     "metadata": {},
     "output_type": "display_data"
    },
    {
     "data": {
      "text/markdown": [
       "<span style=\"color:#33cc33\">Correct</span>"
      ],
      "text/plain": [
       "Correct"
      ]
     },
     "metadata": {},
     "output_type": "display_data"
    }
   ],
   "source": [
    "# TODO: Edit the function to return the correct grade for different scores\n",
    "def get_grade(score):\n",
    "    if score>=90:\n",
    "        grade='A'\n",
    "    elif score>=80 and score<=89:\n",
    "        grade='B'\n",
    "    elif score>=70 and score<=79:\n",
    "        grade='C'\n",
    "    elif score>=60 and score<=69:\n",
    "        grade='D'\n",
    "    elif score<60:\n",
    "        grade='F'\n",
    "    return grade\n",
    "    \n",
    "# Check your answer\n",
    "q1.check()"
   ]
  },
  {
   "cell_type": "code",
   "execution_count": 3,
   "id": "aebcafc2",
   "metadata": {
    "execution": {
     "iopub.execute_input": "2022-08-12T11:53:24.635662Z",
     "iopub.status.busy": "2022-08-12T11:53:24.635285Z",
     "iopub.status.idle": "2022-08-12T11:53:24.650330Z",
     "shell.execute_reply": "2022-08-12T11:53:24.649046Z"
    },
    "papermill": {
     "duration": 0.026846,
     "end_time": "2022-08-12T11:53:24.653381",
     "exception": false,
     "start_time": "2022-08-12T11:53:24.626535",
     "status": "completed"
    },
    "tags": []
   },
   "outputs": [
    {
     "data": {
      "application/javascript": [
       "parent.postMessage({\"jupyterEvent\": \"custom.exercise_interaction\", \"data\": {\"interactionType\": 2, \"questionType\": 2, \"questionId\": \"1_GetGrade\", \"learnToolsVersion\": \"0.3.4\", \"valueTowardsCompletion\": 0.0, \"failureMessage\": \"\", \"exceptionClass\": \"\", \"trace\": \"\", \"outcomeType\": 4}}, \"*\")"
      ],
      "text/plain": [
       "<IPython.core.display.Javascript object>"
      ]
     },
     "metadata": {},
     "output_type": "display_data"
    },
    {
     "data": {
      "text/markdown": [
       "<span style=\"color:#3366cc\">Hint:</span> `\"A\"` should only be returned if `score >= 90`.  Otherwise, if the score is between 80 and 89 (inclusive), or 70 and 79 (inclusive), 60 and 69 (inclusive), or less than 60, a different score should be returned.  Make sure that your function always returns one of: `\"A\"`, `\"B\"`, `\"C\"`, `\"D\"`, or `\"F\"`."
      ],
      "text/plain": [
       "Hint: `\"A\"` should only be returned if `score >= 90`.  Otherwise, if the score is between 80 and 89 (inclusive), or 70 and 79 (inclusive), 60 and 69 (inclusive), or less than 60, a different score should be returned.  Make sure that your function always returns one of: `\"A\"`, `\"B\"`, `\"C\"`, `\"D\"`, or `\"F\"`."
      ]
     },
     "metadata": {},
     "output_type": "display_data"
    },
    {
     "data": {
      "application/javascript": [
       "parent.postMessage({\"jupyterEvent\": \"custom.exercise_interaction\", \"data\": {\"interactionType\": 3, \"questionType\": 2, \"questionId\": \"1_GetGrade\", \"learnToolsVersion\": \"0.3.4\", \"valueTowardsCompletion\": 0.0, \"failureMessage\": \"\", \"exceptionClass\": \"\", \"trace\": \"\", \"outcomeType\": 4}}, \"*\")"
      ],
      "text/plain": [
       "<IPython.core.display.Javascript object>"
      ]
     },
     "metadata": {},
     "output_type": "display_data"
    },
    {
     "data": {
      "text/markdown": [
       "<span style=\"color:#33cc99\">Solution:</span> \n",
       "```python\n",
       "def get_grade(score):\n",
       "    if score >= 90:\n",
       "        grade = \"A\"\n",
       "    elif score >= 80:\n",
       "        grade = \"B\"\n",
       "    elif score >= 70:\n",
       "        grade = \"C\"\n",
       "    elif score >= 60:\n",
       "        grade = \"D\"\n",
       "    else:\n",
       "        grade = \"F\"\n",
       "    return grade\n",
       "\n",
       "```"
      ],
      "text/plain": [
       "Solution: \n",
       "```python\n",
       "def get_grade(score):\n",
       "    if score >= 90:\n",
       "        grade = \"A\"\n",
       "    elif score >= 80:\n",
       "        grade = \"B\"\n",
       "    elif score >= 70:\n",
       "        grade = \"C\"\n",
       "    elif score >= 60:\n",
       "        grade = \"D\"\n",
       "    else:\n",
       "        grade = \"F\"\n",
       "    return grade\n",
       "\n",
       "```"
      ]
     },
     "metadata": {},
     "output_type": "display_data"
    }
   ],
   "source": [
    "# Uncomment to see a hint\n",
    "q1.hint()\n",
    "\n",
    "# Uncomment to see the solution\n",
    "q1.solution()"
   ]
  },
  {
   "cell_type": "markdown",
   "id": "fee1ca38",
   "metadata": {
    "papermill": {
     "duration": 0.007916,
     "end_time": "2022-08-12T11:53:24.669231",
     "exception": false,
     "start_time": "2022-08-12T11:53:24.661315",
     "status": "completed"
    },
    "tags": []
   },
   "source": [
    "# Question 2\n",
    "\n",
    "In the exercise for the previous lesson, you wrote a function `cost_of_project()` that estimated the price of rings for an online shop that sells rings with custom engravings.  This function did not use conditional statements.  In this exercise, you will rewrite the function to use conditional statements.  Recall that the online shop has the following price structure:\n",
    "- Gold plated rings have a base cost of \\\\$50, and you charge \\\\$7 per engraved unit.  \n",
    "- Solid gold rings have a base cost of \\\\$100, and you charge \\\\$10 per engraved unit.\n",
    "- Spaces and punctuation are counted as engraved units.\n",
    "\n",
    "Your function `cost_of_project()` takes two arguments:\n",
    "- `engraving` - a Python string with the text of the engraving\n",
    "- `solid_gold` - a Boolean that indicates whether the ring is solid gold\n",
    "\n",
    "It should return the cost of the project.  \n",
    "\n",
    "The function has been partially completed for you, and you need to fill in the blanks to complete the function."
   ]
  },
  {
   "cell_type": "code",
   "execution_count": 4,
   "id": "3a35550e",
   "metadata": {
    "execution": {
     "iopub.execute_input": "2022-08-12T11:53:24.686622Z",
     "iopub.status.busy": "2022-08-12T11:53:24.686188Z",
     "iopub.status.idle": "2022-08-12T11:53:24.695504Z",
     "shell.execute_reply": "2022-08-12T11:53:24.694493Z"
    },
    "papermill": {
     "duration": 0.020785,
     "end_time": "2022-08-12T11:53:24.697800",
     "exception": false,
     "start_time": "2022-08-12T11:53:24.677015",
     "status": "completed"
    },
    "tags": []
   },
   "outputs": [
    {
     "data": {
      "application/javascript": [
       "parent.postMessage({\"jupyterEvent\": \"custom.exercise_interaction\", \"data\": {\"outcomeType\": 1, \"valueTowardsCompletion\": 0.2, \"interactionType\": 1, \"questionType\": 2, \"questionId\": \"2_CostProjectPartDeux\", \"learnToolsVersion\": \"0.3.4\", \"failureMessage\": \"\", \"exceptionClass\": \"\", \"trace\": \"\"}}, \"*\")"
      ],
      "text/plain": [
       "<IPython.core.display.Javascript object>"
      ]
     },
     "metadata": {},
     "output_type": "display_data"
    },
    {
     "data": {
      "text/markdown": [
       "<span style=\"color:#33cc33\">Correct</span>"
      ],
      "text/plain": [
       "Correct"
      ]
     },
     "metadata": {},
     "output_type": "display_data"
    }
   ],
   "source": [
    "def cost_of_project(engraving, solid_gold):\n",
    "    if solid_gold == True:\n",
    "        cost = 100 + len(engraving)*10\n",
    "    else:\n",
    "        cost = 50 + len(engraving)*7\n",
    "    return cost\n",
    "\n",
    "# Check your answer\n",
    "q2.check()"
   ]
  },
  {
   "cell_type": "code",
   "execution_count": 5,
   "id": "01f07195",
   "metadata": {
    "execution": {
     "iopub.execute_input": "2022-08-12T11:53:24.716439Z",
     "iopub.status.busy": "2022-08-12T11:53:24.715914Z",
     "iopub.status.idle": "2022-08-12T11:53:24.729313Z",
     "shell.execute_reply": "2022-08-12T11:53:24.728068Z"
    },
    "papermill": {
     "duration": 0.026818,
     "end_time": "2022-08-12T11:53:24.732793",
     "exception": false,
     "start_time": "2022-08-12T11:53:24.705975",
     "status": "completed"
    },
    "tags": []
   },
   "outputs": [
    {
     "data": {
      "application/javascript": [
       "parent.postMessage({\"jupyterEvent\": \"custom.exercise_interaction\", \"data\": {\"interactionType\": 2, \"questionType\": 2, \"questionId\": \"2_CostProjectPartDeux\", \"learnToolsVersion\": \"0.3.4\", \"valueTowardsCompletion\": 0.0, \"failureMessage\": \"\", \"exceptionClass\": \"\", \"trace\": \"\", \"outcomeType\": 4}}, \"*\")"
      ],
      "text/plain": [
       "<IPython.core.display.Javascript object>"
      ]
     },
     "metadata": {},
     "output_type": "display_data"
    },
    {
     "data": {
      "text/markdown": [
       "<span style=\"color:#3366cc\">Hint:</span> If `solid_gold = True`, then the cost of the ring is \\$100 (base cost), plus \\$10 times the length of the engraving.  You can get the length of the engraving with `len(engraving)`.  Otherwise, if `solid_gold = False`, then the cost of the ring is \\$50 (base cost), plus \\$7 times the length of the engraving."
      ],
      "text/plain": [
       "Hint: If `solid_gold = True`, then the cost of the ring is \\$100 (base cost), plus \\$10 times the length of the engraving.  You can get the length of the engraving with `len(engraving)`.  Otherwise, if `solid_gold = False`, then the cost of the ring is \\$50 (base cost), plus \\$7 times the length of the engraving."
      ]
     },
     "metadata": {},
     "output_type": "display_data"
    },
    {
     "data": {
      "application/javascript": [
       "parent.postMessage({\"jupyterEvent\": \"custom.exercise_interaction\", \"data\": {\"interactionType\": 3, \"questionType\": 2, \"questionId\": \"2_CostProjectPartDeux\", \"learnToolsVersion\": \"0.3.4\", \"valueTowardsCompletion\": 0.0, \"failureMessage\": \"\", \"exceptionClass\": \"\", \"trace\": \"\", \"outcomeType\": 4}}, \"*\")"
      ],
      "text/plain": [
       "<IPython.core.display.Javascript object>"
      ]
     },
     "metadata": {},
     "output_type": "display_data"
    },
    {
     "data": {
      "text/markdown": [
       "<span style=\"color:#33cc99\">Solution:</span> \n",
       "```python\n",
       "# option 1\n",
       "def cost_of_project(engraving, solid_gold):\n",
       "    num_units = len(engraving)\n",
       "    if solid_gold == True:\n",
       "        cost = 100 + 10 * num_units\n",
       "    else:\n",
       "        cost = 50 + 7 * num_units\n",
       "    return cost\n",
       "    \n",
       "# option 2 \n",
       "def cost_of_project(engraving, solid_gold):\n",
       "    if solid_gold == True:\n",
       "        cost = 100 + 10 * len(engraving)\n",
       "    else:\n",
       "        cost = 50 + 7 * len(engraving)\n",
       "    return cost\n",
       "\n",
       "```"
      ],
      "text/plain": [
       "Solution: \n",
       "```python\n",
       "# option 1\n",
       "def cost_of_project(engraving, solid_gold):\n",
       "    num_units = len(engraving)\n",
       "    if solid_gold == True:\n",
       "        cost = 100 + 10 * num_units\n",
       "    else:\n",
       "        cost = 50 + 7 * num_units\n",
       "    return cost\n",
       "    \n",
       "# option 2 \n",
       "def cost_of_project(engraving, solid_gold):\n",
       "    if solid_gold == True:\n",
       "        cost = 100 + 10 * len(engraving)\n",
       "    else:\n",
       "        cost = 50 + 7 * len(engraving)\n",
       "    return cost\n",
       "\n",
       "```"
      ]
     },
     "metadata": {},
     "output_type": "display_data"
    }
   ],
   "source": [
    "# Uncomment to see a hint\n",
    "q2.hint()\n",
    "\n",
    "# Uncomment to see the solution\n",
    "q2.solution()"
   ]
  },
  {
   "cell_type": "markdown",
   "id": "8f717654",
   "metadata": {
    "papermill": {
     "duration": 0.009695,
     "end_time": "2022-08-12T11:53:24.752205",
     "exception": false,
     "start_time": "2022-08-12T11:53:24.742510",
     "status": "completed"
    },
    "tags": []
   },
   "source": [
    "# Question 3\n",
    "\n",
    "You are a programmer at a water agency.  Recently, you have been tasked to write a function `get_water_bill()` that takes as input:\n",
    "- `num_gallons` = the number of gallons of water that a customer used that month.  (This will always be an integer with no decimal part.)\n",
    "\n",
    "It should output the water bill.  \n",
    "\n",
    "The water agency uses this pricing structure:\n",
    "<table style=\"width: 100%;\">\n",
    "<tbody>\n",
    "<tr><th><b>Tier</b></th><th><b>Amount in gallons</b></th><th><b>Price per 1000 gallons</b></th></tr>\n",
    "<tr>\n",
    "<td>Tier 1</td>\n",
    "<td>0 - 8,000</td>\n",
    "<td>\\$5</td>\n",
    "</tr>\n",
    "<tr>\n",
    "<td>Tier 2</td>\n",
    "<td>8,001 - 22,000</td>\n",
    "<td>\\$6</td>\n",
    "</tr>\n",
    "<tr>\n",
    "<td>Tier 3</td>\n",
    "<td>22,001 - 30,000</td>\n",
    "<td>\\$7</td>\n",
    "</tr>\n",
    "<tr>\n",
    "<td>Tier 4</td>\n",
    "<td>30,001+</td>\n",
    "<td>\\$10</td>\n",
    "</tr>\n",
    "</tbody>\n",
    "</table>\n",
    "\n",
    "For example: \n",
    "- Someone who uses 10,000 gallons of water in a month is placed in Tier 2, and needs to pay a water bill of \\\\$6 * 10 = \\\\$60.  In other words, `get_water_bill(10000)` should return `60.0`.\n",
    "- Someone who uses 25,000 gallons of water in a month is placed in Tier 3, and needs to pay a water bill of \\\\$7 * 25 = \\\\$175.  In other words, `get_water_bill(25000)` should return `175.0`.\n",
    "\n",
    "**Do not round your answer.**  So, your answer might return fractions of a penny."
   ]
  },
  {
   "cell_type": "code",
   "execution_count": 6,
   "id": "9ebaced2",
   "metadata": {
    "execution": {
     "iopub.execute_input": "2022-08-12T11:53:24.775275Z",
     "iopub.status.busy": "2022-08-12T11:53:24.774668Z",
     "iopub.status.idle": "2022-08-12T11:53:24.788471Z",
     "shell.execute_reply": "2022-08-12T11:53:24.784862Z"
    },
    "papermill": {
     "duration": 0.028211,
     "end_time": "2022-08-12T11:53:24.791918",
     "exception": false,
     "start_time": "2022-08-12T11:53:24.763707",
     "status": "completed"
    },
    "tags": []
   },
   "outputs": [
    {
     "data": {
      "application/javascript": [
       "parent.postMessage({\"jupyterEvent\": \"custom.exercise_interaction\", \"data\": {\"outcomeType\": 1, \"valueTowardsCompletion\": 0.2, \"interactionType\": 1, \"questionType\": 2, \"questionId\": \"3_GetWaterBill\", \"learnToolsVersion\": \"0.3.4\", \"failureMessage\": \"\", \"exceptionClass\": \"\", \"trace\": \"\"}}, \"*\")"
      ],
      "text/plain": [
       "<IPython.core.display.Javascript object>"
      ]
     },
     "metadata": {},
     "output_type": "display_data"
    },
    {
     "data": {
      "text/markdown": [
       "<span style=\"color:#33cc33\">Correct</span>"
      ],
      "text/plain": [
       "Correct"
      ]
     },
     "metadata": {},
     "output_type": "display_data"
    }
   ],
   "source": [
    "# TODO: Edit the function to return the correct bill for different\n",
    "# values of num_gallons\n",
    "def get_water_bill(num_gallons):\n",
    "    if num_gallons<=8000:\n",
    "        bill = 5 * num_gallons / 1000\n",
    "    elif num_gallons>8000 and num_gallons<=22000:\n",
    "        bill = 6 * num_gallons / 1000\n",
    "    elif num_gallons>22000 and num_gallons<=30000:\n",
    "        bill = 7 * num_gallons / 1000\n",
    "    elif num_gallons>30000:\n",
    "        bill = 10 * num_gallons / 1000\n",
    "    return float(bill)\n",
    "\n",
    "# Check your answer\n",
    "q3.check()"
   ]
  },
  {
   "cell_type": "code",
   "execution_count": 7,
   "id": "33d65143",
   "metadata": {
    "execution": {
     "iopub.execute_input": "2022-08-12T11:53:24.812048Z",
     "iopub.status.busy": "2022-08-12T11:53:24.811189Z",
     "iopub.status.idle": "2022-08-12T11:53:24.826163Z",
     "shell.execute_reply": "2022-08-12T11:53:24.825167Z"
    },
    "papermill": {
     "duration": 0.027753,
     "end_time": "2022-08-12T11:53:24.828588",
     "exception": false,
     "start_time": "2022-08-12T11:53:24.800835",
     "status": "completed"
    },
    "tags": []
   },
   "outputs": [
    {
     "data": {
      "application/javascript": [
       "parent.postMessage({\"jupyterEvent\": \"custom.exercise_interaction\", \"data\": {\"interactionType\": 2, \"questionType\": 2, \"questionId\": \"3_GetWaterBill\", \"learnToolsVersion\": \"0.3.4\", \"valueTowardsCompletion\": 0.0, \"failureMessage\": \"\", \"exceptionClass\": \"\", \"trace\": \"\", \"outcomeType\": 4}}, \"*\")"
      ],
      "text/plain": [
       "<IPython.core.display.Javascript object>"
      ]
     },
     "metadata": {},
     "output_type": "display_data"
    },
    {
     "data": {
      "text/markdown": [
       "<span style=\"color:#3366cc\">Hint:</span> \n",
       "Your solution should look something like:\n",
       "```python\n",
       "def get_water_bill(num_gallons):\n",
       "    if num_gallons <= 8000:\n",
       "        bill = ____ \n",
       "    elif num_gallons <= 22000:\n",
       "        bill = ____ \n",
       "    elif num_gallons <= 30000:\n",
       "        bill = ____\n",
       "    else:\n",
       "        bill = ____ \n",
       "    return bill\n",
       "```\n"
      ],
      "text/plain": [
       "Hint: \n",
       "Your solution should look something like:\n",
       "```python\n",
       "def get_water_bill(num_gallons):\n",
       "    if num_gallons <= 8000:\n",
       "        bill = ____ \n",
       "    elif num_gallons <= 22000:\n",
       "        bill = ____ \n",
       "    elif num_gallons <= 30000:\n",
       "        bill = ____\n",
       "    else:\n",
       "        bill = ____ \n",
       "    return bill\n",
       "```"
      ]
     },
     "metadata": {},
     "output_type": "display_data"
    },
    {
     "data": {
      "application/javascript": [
       "parent.postMessage({\"jupyterEvent\": \"custom.exercise_interaction\", \"data\": {\"interactionType\": 3, \"questionType\": 2, \"questionId\": \"3_GetWaterBill\", \"learnToolsVersion\": \"0.3.4\", \"valueTowardsCompletion\": 0.0, \"failureMessage\": \"\", \"exceptionClass\": \"\", \"trace\": \"\", \"outcomeType\": 4}}, \"*\")"
      ],
      "text/plain": [
       "<IPython.core.display.Javascript object>"
      ]
     },
     "metadata": {},
     "output_type": "display_data"
    },
    {
     "data": {
      "text/markdown": [
       "<span style=\"color:#33cc99\">Solution:</span> \n",
       "```python\n",
       "def get_water_bill(num_gallons):\n",
       "    if num_gallons <= 8000:\n",
       "        bill = 5 * num_gallons / 1000\n",
       "    elif num_gallons <= 22000:\n",
       "        bill = 6 * num_gallons / 1000\n",
       "    elif num_gallons <= 30000:\n",
       "        bill = 7 * num_gallons / 1000\n",
       "    else:\n",
       "        bill = 10 * num_gallons / 1000\n",
       "    return bill\n",
       "\n",
       "```"
      ],
      "text/plain": [
       "Solution: \n",
       "```python\n",
       "def get_water_bill(num_gallons):\n",
       "    if num_gallons <= 8000:\n",
       "        bill = 5 * num_gallons / 1000\n",
       "    elif num_gallons <= 22000:\n",
       "        bill = 6 * num_gallons / 1000\n",
       "    elif num_gallons <= 30000:\n",
       "        bill = 7 * num_gallons / 1000\n",
       "    else:\n",
       "        bill = 10 * num_gallons / 1000\n",
       "    return bill\n",
       "\n",
       "```"
      ]
     },
     "metadata": {},
     "output_type": "display_data"
    }
   ],
   "source": [
    "# Uncomment to see a hint\n",
    "q3.hint()\n",
    "\n",
    "# Uncomment to see the solution\n",
    "q3.solution()"
   ]
  },
  {
   "cell_type": "markdown",
   "id": "96e12f87",
   "metadata": {
    "papermill": {
     "duration": 0.009909,
     "end_time": "2022-08-12T11:53:24.848348",
     "exception": false,
     "start_time": "2022-08-12T11:53:24.838439",
     "status": "completed"
    },
    "tags": []
   },
   "source": [
    "# Question 4\n",
    "\n",
    "You work for a company that provides data services.  For \\\\$100/month, your company provides 15 gigabytes (GB) of data.  Then, any additional data is billed at \\\\$0.10/MB (or \\\\$100/GB, since 1,000 MB are in 1 GB).\n",
    "\n",
    "Use the next code cell to write a function `get_phone_bill()` that takes as input:\n",
    "- `gb` = number of GB that the customer used in a month\n",
    "\n",
    "It should return the customer's total phone bill.\n",
    "\n",
    "For instance:\n",
    "- A customer who uses 10 GB of data in one month is billed only \\\\$100, since the usage stayed under 15 GB.  In other words, `get_phone_bill(10)` should return `100`.\n",
    "- A customer who uses 15.1 GB (or 15 GB + 100 MB) of data in one month has gone over by .1 GB, so they must pay \\\\$100 (cost of plan), plus \\\\$0.10 * 100 = \\\\$10, for a total bill of \\\\$110.  In other words, `get_phone_bill(15.1)` should return `110`.\n",
    "\n",
    "Do not round your answer."
   ]
  },
  {
   "cell_type": "code",
   "execution_count": 8,
   "id": "442b6ada",
   "metadata": {
    "execution": {
     "iopub.execute_input": "2022-08-12T11:53:24.869547Z",
     "iopub.status.busy": "2022-08-12T11:53:24.868681Z",
     "iopub.status.idle": "2022-08-12T11:53:24.879996Z",
     "shell.execute_reply": "2022-08-12T11:53:24.878964Z"
    },
    "papermill": {
     "duration": 0.024736,
     "end_time": "2022-08-12T11:53:24.882368",
     "exception": false,
     "start_time": "2022-08-12T11:53:24.857632",
     "status": "completed"
    },
    "tags": []
   },
   "outputs": [
    {
     "data": {
      "application/javascript": [
       "parent.postMessage({\"jupyterEvent\": \"custom.exercise_interaction\", \"data\": {\"outcomeType\": 1, \"valueTowardsCompletion\": 0.2, \"interactionType\": 1, \"questionType\": 2, \"questionId\": \"4_GetPhoneBill\", \"learnToolsVersion\": \"0.3.4\", \"failureMessage\": \"\", \"exceptionClass\": \"\", \"trace\": \"\"}}, \"*\")"
      ],
      "text/plain": [
       "<IPython.core.display.Javascript object>"
      ]
     },
     "metadata": {},
     "output_type": "display_data"
    },
    {
     "data": {
      "text/markdown": [
       "<span style=\"color:#33cc33\">Correct</span>"
      ],
      "text/plain": [
       "Correct"
      ]
     },
     "metadata": {},
     "output_type": "display_data"
    }
   ],
   "source": [
    "# TODO: Edit the function to return the correct bill for different\n",
    "# values of GB\n",
    "def get_phone_bill(gb):\n",
    "    bill = 0\n",
    "    if gb<=15:\n",
    "        bill = 100\n",
    "    elif gb>15:\n",
    "        bill = ((gb-15)*100) + 100\n",
    "    # print(bill)\n",
    "    return bill\n",
    "\n",
    "# Check your answer\n",
    "q4.check()"
   ]
  },
  {
   "cell_type": "code",
   "execution_count": 9,
   "id": "6fe69a05",
   "metadata": {
    "execution": {
     "iopub.execute_input": "2022-08-12T11:53:24.904316Z",
     "iopub.status.busy": "2022-08-12T11:53:24.903565Z",
     "iopub.status.idle": "2022-08-12T11:53:24.917954Z",
     "shell.execute_reply": "2022-08-12T11:53:24.916910Z"
    },
    "papermill": {
     "duration": 0.028536,
     "end_time": "2022-08-12T11:53:24.921010",
     "exception": false,
     "start_time": "2022-08-12T11:53:24.892474",
     "status": "completed"
    },
    "tags": []
   },
   "outputs": [
    {
     "data": {
      "application/javascript": [
       "parent.postMessage({\"jupyterEvent\": \"custom.exercise_interaction\", \"data\": {\"interactionType\": 2, \"questionType\": 2, \"questionId\": \"4_GetPhoneBill\", \"learnToolsVersion\": \"0.3.4\", \"valueTowardsCompletion\": 0.0, \"failureMessage\": \"\", \"exceptionClass\": \"\", \"trace\": \"\", \"outcomeType\": 4}}, \"*\")"
      ],
      "text/plain": [
       "<IPython.core.display.Javascript object>"
      ]
     },
     "metadata": {},
     "output_type": "display_data"
    },
    {
     "data": {
      "text/markdown": [
       "<span style=\"color:#3366cc\">Hint:</span> \n",
       "Your solution should look something like:\n",
       "```python\n",
       "def get_phone_bill(gb):\n",
       "    if gb <= 15:\n",
       "        bill = ____\n",
       "    else:\n",
       "        bill = 100 + ____\n",
       "    return bill\n",
       "```\n"
      ],
      "text/plain": [
       "Hint: \n",
       "Your solution should look something like:\n",
       "```python\n",
       "def get_phone_bill(gb):\n",
       "    if gb <= 15:\n",
       "        bill = ____\n",
       "    else:\n",
       "        bill = 100 + ____\n",
       "    return bill\n",
       "```"
      ]
     },
     "metadata": {},
     "output_type": "display_data"
    },
    {
     "data": {
      "application/javascript": [
       "parent.postMessage({\"jupyterEvent\": \"custom.exercise_interaction\", \"data\": {\"interactionType\": 3, \"questionType\": 2, \"questionId\": \"4_GetPhoneBill\", \"learnToolsVersion\": \"0.3.4\", \"valueTowardsCompletion\": 0.0, \"failureMessage\": \"\", \"exceptionClass\": \"\", \"trace\": \"\", \"outcomeType\": 4}}, \"*\")"
      ],
      "text/plain": [
       "<IPython.core.display.Javascript object>"
      ]
     },
     "metadata": {},
     "output_type": "display_data"
    },
    {
     "data": {
      "text/markdown": [
       "<span style=\"color:#33cc99\">Solution:</span> \n",
       "```python\n",
       "def get_phone_bill(gb):\n",
       "    if gb <= 15:\n",
       "        bill = 100\n",
       "    else:\n",
       "        bill = 100 + (gb - 15) * 100\n",
       "    return bill\n",
       "\n",
       "```"
      ],
      "text/plain": [
       "Solution: \n",
       "```python\n",
       "def get_phone_bill(gb):\n",
       "    if gb <= 15:\n",
       "        bill = 100\n",
       "    else:\n",
       "        bill = 100 + (gb - 15) * 100\n",
       "    return bill\n",
       "\n",
       "```"
      ]
     },
     "metadata": {},
     "output_type": "display_data"
    }
   ],
   "source": [
    "# Uncomment to see a hint\n",
    "q4.hint()\n",
    "\n",
    "# Uncomment to see the solution\n",
    "q4.solution()"
   ]
  },
  {
   "cell_type": "markdown",
   "id": "81bcd533",
   "metadata": {
    "papermill": {
     "duration": 0.011141,
     "end_time": "2022-08-12T11:53:24.942457",
     "exception": false,
     "start_time": "2022-08-12T11:53:24.931316",
     "status": "completed"
    },
    "tags": []
   },
   "source": [
    "# 🌶️ Question 5\n",
    "\n",
    "In Mexico, foods and beverages that are high in saturated fat, trans fat, sugar, sodium, and/or calories appear with warning labels that are designed to help consumers make healthy food choices.\n",
    "\n",
    "For instance, the [box of cookies](https://world.openfoodfacts.org/product/7501000673209/florentinas-gamesa) in the image below appears with two labels (in the upper right corner):\n",
    "- EXCESO CALORÍAS (in English, EXCESS CALORIES)\n",
    "- EXCESO AZÚCARES (in English, EXCESS SUGAR)\n",
    "\n",
    "<center><img src=\"https://i.imgur.com/VXYKHnM.png\" alt=\"drawing\" width=\"500\"/></center>\n",
    "\n",
    "In this question, you'll work with a function `get_labels()` that takes the nutritional details about a food item and prints the needed warning labels.  This function takes several inputs:\n",
    "- `food_type` = one of `\"solid\"` or `\"liquid\"`\n",
    "- `serving_size` = size of one serving (if solid, in grams; if liquid, in milliliters)\n",
    "- `calories_per_serving` = calories in one serving\n",
    "- `saturated_fat_g` = grams of saturated fat in one serving\n",
    "- `trans_fat_g` = grams of trans fat in one serving\n",
    "- `sodium_mg` = mg of sodium in one serving\n",
    "- `sugars_g` = grams of sugar in one serving\n",
    "\n",
    "Note that some of the code here should feel unfamiliar to you, since we have not shared the details of how some of the functions like `excess_sugar()` or `excess_saturated_fat()` work.  But at a high level, these are functions that return a value of `True` if the food is deemed to have an excess of sugar or saturated fat, respectively.  These functions are used within the `get_labels()` function, and whenever there is an excess (of sugar or saturated fat, but also of trans fat, sodium, or calories), it prints the corresponding label."
   ]
  },
  {
   "cell_type": "code",
   "execution_count": 10,
   "id": "42e3c866",
   "metadata": {
    "execution": {
     "iopub.execute_input": "2022-08-12T11:53:24.965098Z",
     "iopub.status.busy": "2022-08-12T11:53:24.964663Z",
     "iopub.status.idle": "2022-08-12T11:53:24.975147Z",
     "shell.execute_reply": "2022-08-12T11:53:24.973765Z"
    },
    "papermill": {
     "duration": 0.025693,
     "end_time": "2022-08-12T11:53:24.978635",
     "exception": false,
     "start_time": "2022-08-12T11:53:24.952942",
     "status": "completed"
    },
    "tags": []
   },
   "outputs": [],
   "source": [
    "# import functions needed to make get_labels work\n",
    "from learntools.intro_to_programming.ex4q5 import excess_sugar, excess_saturated_fat, excess_trans_fat, excess_sodium, excess_calories\n",
    "\n",
    "def get_labels(food_type, serving_size, calories_per_serving, saturated_fat_g, trans_fat_g, sodium_mg, sugars_g):\n",
    "    # Print messages based on findings\n",
    "    if excess_sugar(sugars_g, calories_per_serving) == True:\n",
    "        print(\"EXCESO AZÚCARES / EXCESS SUGAR\")\n",
    "    if excess_saturated_fat(saturated_fat_g, calories_per_serving) == True:\n",
    "        print(\"EXCESO GRASAS SATURADAS / EXCESS SATURATED FAT\")\n",
    "    if excess_trans_fat(trans_fat_g, calories_per_serving) == True:\n",
    "        print(\"EXCESO GRASAS TRANS / EXCESS TRANS FAT\")\n",
    "    if excess_sodium(calories_per_serving, sodium_mg) == True:\n",
    "        print(\"EXCESO SODIO / EXCESS SODIUM\")\n",
    "    if excess_calories(food_type, calories_per_serving, serving_size) == True:\n",
    "        print(\"EXCESO CALORÍAS / EXCESS CALORIES\")"
   ]
  },
  {
   "cell_type": "markdown",
   "id": "81549131",
   "metadata": {
    "papermill": {
     "duration": 0.009739,
     "end_time": "2022-08-12T11:53:24.998738",
     "exception": false,
     "start_time": "2022-08-12T11:53:24.988999",
     "status": "completed"
    },
    "tags": []
   },
   "source": [
    "The next code cell demonstrates how to use `get_labels()` to get the warning labels that the food item should contain.  We begin with [bologna](https://world.openfoodfacts.org/product/4099100179378/bologna).  Here is [an image](https://imgur.com/Cfcx72e) with all of the nutritional information.  Note that for this food,\n",
    "- `food_type = \"solid\"` (because bologna is a solid and not a liquid)\n",
    "- `serving_size = 32` (the serving size is 32 grams)\n",
    "- `calories_per_serving = 110` (there are 110 calories per serving)\n",
    "- `saturated_fat_g = 2.5` (there are 2.5 grams of saturated fat per serving)\n",
    "- `trans_fat_g = 0` (there are 0 grams of trans fat per serving)\n",
    "- `sodium_mg = 400` (there are 400 mg of sodium per serving)\n",
    "- `sugars_g = 1` (the nutrition facts say <1g, but we will round it up to 1 gram per serving to be safe)\n",
    "\n",
    "By supplying all of these values to the function, we can print the warning labels."
   ]
  },
  {
   "cell_type": "code",
   "execution_count": 11,
   "id": "396f4620",
   "metadata": {
    "execution": {
     "iopub.execute_input": "2022-08-12T11:53:25.020735Z",
     "iopub.status.busy": "2022-08-12T11:53:25.020315Z",
     "iopub.status.idle": "2022-08-12T11:53:25.026481Z",
     "shell.execute_reply": "2022-08-12T11:53:25.025140Z"
    },
    "papermill": {
     "duration": 0.020393,
     "end_time": "2022-08-12T11:53:25.029364",
     "exception": false,
     "start_time": "2022-08-12T11:53:25.008971",
     "status": "completed"
    },
    "tags": []
   },
   "outputs": [
    {
     "name": "stdout",
     "output_type": "stream",
     "text": [
      "EXCESO GRASAS SATURADAS / EXCESS SATURATED FAT\n",
      "EXCESO SODIO / EXCESS SODIUM\n",
      "EXCESO CALORÍAS / EXCESS CALORIES\n"
     ]
    }
   ],
   "source": [
    "# bologna https://world.openfoodfacts.org/product/4099100179378/bologna\n",
    "get_labels(\"solid\", 32, 110, 2.5, 0, 400, 1)"
   ]
  },
  {
   "cell_type": "markdown",
   "id": "061b76ff",
   "metadata": {
    "papermill": {
     "duration": 0.010442,
     "end_time": "2022-08-12T11:53:25.052392",
     "exception": false,
     "start_time": "2022-08-12T11:53:25.041950",
     "status": "completed"
    },
    "tags": []
   },
   "source": [
    "This bologna has three labels, printed in the output above.\n",
    "\n",
    "For the rest of this question, you will use the same `get_labels()` function to determine the labels for more foods.  This question is designed to help you get practice with feeling comfortable with code that other people have written, and where you don't have time to review every single line of code before interacting with it.  For instance, when you take the [Intro to Machine Learning course](http://www.kaggle.com/learn/intro-to-machine-learning), you'll work with a Python package called \"scikit-learn\", which is a large collection of code that you'll learn how to run without reviewing all of the code in detail (as it would take too long, and you can trust that it was implemented correctly).\n",
    "\n",
    "In general, as you continue coding in Python, you will often be running code that other people have written.  This is common practice for advanced programmers.\n",
    "\n",
    "In the next code cell, fill in the values for [this cereal](https://world.openfoodfacts.org/product/7501008023624/zucaritas-kellogg-s).  Here is [an image](https://imgur.com/a/MUxzHVU) with all of the nutritional information.\n",
    "\n",
    "**Note**: running the line of code below as-is will return an error.  You have to fill in the nutritional values first."
   ]
  },
  {
   "cell_type": "code",
   "execution_count": 12,
   "id": "8488190b",
   "metadata": {
    "execution": {
     "iopub.execute_input": "2022-08-12T11:53:25.076199Z",
     "iopub.status.busy": "2022-08-12T11:53:25.075417Z",
     "iopub.status.idle": "2022-08-12T11:53:25.082899Z",
     "shell.execute_reply": "2022-08-12T11:53:25.080547Z"
    },
    "papermill": {
     "duration": 0.023421,
     "end_time": "2022-08-12T11:53:25.086345",
     "exception": false,
     "start_time": "2022-08-12T11:53:25.062924",
     "status": "completed"
    },
    "tags": []
   },
   "outputs": [
    {
     "name": "stdout",
     "output_type": "stream",
     "text": [
      "EXCESO AZÚCARES / EXCESS SUGAR\n",
      "EXCESO SODIO / EXCESS SODIUM\n",
      "EXCESO CALORÍAS / EXCESS CALORIES\n"
     ]
    }
   ],
   "source": [
    "# zucaritas cereal https://world.openfoodfacts.org/product/7501008023624/zucaritas-kellogg-s\n",
    "# TODO: Uncomment the line below, fill in the values, and run the function\n",
    "get_labels(food_type='solid', serving_size=18, calories_per_serving=150, saturated_fat_g=0, trans_fat_g=0, sodium_mg=150, sugars_g=16)"
   ]
  },
  {
   "cell_type": "markdown",
   "id": "4d5afe26",
   "metadata": {
    "papermill": {
     "duration": 0.011848,
     "end_time": "2022-08-12T11:53:25.113339",
     "exception": false,
     "start_time": "2022-08-12T11:53:25.101491",
     "status": "completed"
    },
    "tags": []
   },
   "source": [
    "Next, try [these mozzarella sticks](https://world-es.openfoodfacts.org/producto/0062325540104/mozzarella-cheese-sticks).  Here is [an image](https://imgur.com/rcdB7VH) with all of the nutritional information."
   ]
  },
  {
   "cell_type": "code",
   "execution_count": 13,
   "id": "14545552",
   "metadata": {
    "execution": {
     "iopub.execute_input": "2022-08-12T11:53:25.145222Z",
     "iopub.status.busy": "2022-08-12T11:53:25.144111Z",
     "iopub.status.idle": "2022-08-12T11:53:25.151785Z",
     "shell.execute_reply": "2022-08-12T11:53:25.150894Z"
    },
    "papermill": {
     "duration": 0.029968,
     "end_time": "2022-08-12T11:53:25.154113",
     "exception": false,
     "start_time": "2022-08-12T11:53:25.124145",
     "status": "completed"
    },
    "tags": []
   },
   "outputs": [
    {
     "name": "stdout",
     "output_type": "stream",
     "text": [
      "EXCESO GRASAS SATURADAS / EXCESS SATURATED FAT\n",
      "EXCESO CALORÍAS / EXCESS CALORIES\n"
     ]
    }
   ],
   "source": [
    "# mozzarella sticks https://world-es.openfoodfacts.org/producto/0062325540104/mozzarella-cheese-sticks\n",
    "# TODO: Uncomment the line below, fill in the values, and run the function\n",
    "get_labels('solid', 100, 323, 14.286, 0, 0, 0)"
   ]
  },
  {
   "cell_type": "markdown",
   "id": "706984b0",
   "metadata": {
    "papermill": {
     "duration": 0.010201,
     "end_time": "2022-08-12T11:53:25.175053",
     "exception": false,
     "start_time": "2022-08-12T11:53:25.164852",
     "status": "completed"
    },
    "tags": []
   },
   "source": [
    "Feel free to skip to the end of the notebook now and run `q5.check()` to complete the exercise.  If you want to try more foods, \n",
    "- try [these cookies](https://world.openfoodfacts.org/product/0069700118545/biscuits-au-sucre-pretraches).  Here is [an image](https://imgur.com/2Bc271o) with all of the nutritional information.\n",
    "- try [this soda](https://world-es.openfoodfacts.org/producto/0078000113464/orange-soda-sunkist).  Here is [an image](https://imgur.com/RsBYa8E) with all of the nutritional information.\n",
    "\n",
    "Use the two code cells below for this."
   ]
  },
  {
   "cell_type": "code",
   "execution_count": 14,
   "id": "46d9d9d8",
   "metadata": {
    "execution": {
     "iopub.execute_input": "2022-08-12T11:53:25.199613Z",
     "iopub.status.busy": "2022-08-12T11:53:25.197753Z",
     "iopub.status.idle": "2022-08-12T11:53:25.207445Z",
     "shell.execute_reply": "2022-08-12T11:53:25.206402Z"
    },
    "papermill": {
     "duration": 0.024786,
     "end_time": "2022-08-12T11:53:25.210323",
     "exception": false,
     "start_time": "2022-08-12T11:53:25.185537",
     "status": "completed"
    },
    "tags": []
   },
   "outputs": [
    {
     "name": "stdout",
     "output_type": "stream",
     "text": [
      "EXCESO AZÚCARES / EXCESS SUGAR\n",
      "EXCESO GRASAS SATURADAS / EXCESS SATURATED FAT\n",
      "EXCESO CALORÍAS / EXCESS CALORIES\n"
     ]
    }
   ],
   "source": [
    "# pillsbury cookies https://world.openfoodfacts.org/product/0069700118545/biscuits-au-sucre-pretraches\n",
    "# TODO: Uncomment the line below, fill in the values, and run the function\n",
    "get_labels('solid', 100, 400, 5, 0, 0, 30)"
   ]
  },
  {
   "cell_type": "code",
   "execution_count": 15,
   "id": "d2adff46",
   "metadata": {
    "execution": {
     "iopub.execute_input": "2022-08-12T11:53:25.241894Z",
     "iopub.status.busy": "2022-08-12T11:53:25.241428Z",
     "iopub.status.idle": "2022-08-12T11:53:25.250411Z",
     "shell.execute_reply": "2022-08-12T11:53:25.246689Z"
    },
    "papermill": {
     "duration": 0.030182,
     "end_time": "2022-08-12T11:53:25.252959",
     "exception": false,
     "start_time": "2022-08-12T11:53:25.222777",
     "status": "completed"
    },
    "tags": []
   },
   "outputs": [
    {
     "name": "stdout",
     "output_type": "stream",
     "text": [
      "EXCESO AZÚCARES / EXCESS SUGAR\n"
     ]
    }
   ],
   "source": [
    "# sunkist orange soda https://world-es.openfoodfacts.org/producto/0078000113464/orange-soda-sunkist\n",
    "# TODO: Uncomment the line below, fill in the values, and run the function\n",
    "get_labels('liquid', 100, 45, 0, 0, 0, 12.394)"
   ]
  },
  {
   "cell_type": "markdown",
   "id": "3af83bc1",
   "metadata": {
    "papermill": {
     "duration": 0.014666,
     "end_time": "2022-08-12T11:53:25.281757",
     "exception": false,
     "start_time": "2022-08-12T11:53:25.267091",
     "status": "completed"
    },
    "tags": []
   },
   "source": [
    "Once you have finished investigating the food items in this question, run the final code cell to get credit for completing this problem."
   ]
  },
  {
   "cell_type": "code",
   "execution_count": 16,
   "id": "01a59423",
   "metadata": {
    "execution": {
     "iopub.execute_input": "2022-08-12T11:53:25.315982Z",
     "iopub.status.busy": "2022-08-12T11:53:25.314260Z",
     "iopub.status.idle": "2022-08-12T11:53:25.326360Z",
     "shell.execute_reply": "2022-08-12T11:53:25.324884Z"
    },
    "papermill": {
     "duration": 0.03243,
     "end_time": "2022-08-12T11:53:25.329221",
     "exception": false,
     "start_time": "2022-08-12T11:53:25.296791",
     "status": "completed"
    },
    "tags": []
   },
   "outputs": [
    {
     "data": {
      "application/javascript": [
       "parent.postMessage({\"jupyterEvent\": \"custom.exercise_interaction\", \"data\": {\"outcomeType\": 1, \"valueTowardsCompletion\": 0.2, \"interactionType\": 1, \"questionType\": 2, \"questionId\": \"5_GetLabels\", \"learnToolsVersion\": \"0.3.4\", \"failureMessage\": \"\", \"exceptionClass\": \"\", \"trace\": \"\"}}, \"*\")"
      ],
      "text/plain": [
       "<IPython.core.display.Javascript object>"
      ]
     },
     "metadata": {},
     "output_type": "display_data"
    },
    {
     "data": {
      "text/markdown": [
       "<span style=\"color:#33cc33\">Once you have determined the labels for all of the food items, you're ready to move on to the next lesson!</span>"
      ],
      "text/plain": [
       "Once you have determined the labels for all of the food items, you're ready to move on to the next lesson!"
      ]
     },
     "metadata": {},
     "output_type": "display_data"
    }
   ],
   "source": [
    "# Get credit for completing the problem\n",
    "q5.check()"
   ]
  },
  {
   "cell_type": "markdown",
   "id": "999c934d",
   "metadata": {
    "papermill": {
     "duration": 0.011377,
     "end_time": "2022-08-12T11:53:25.352744",
     "exception": false,
     "start_time": "2022-08-12T11:53:25.341367",
     "status": "completed"
    },
    "tags": []
   },
   "source": [
    "# Keep going\n",
    "\n",
    "Continue to the next lesson to **[learn about Python lists](https://www.kaggle.com/alexisbcook/intro-to-lists)**."
   ]
  },
  {
   "cell_type": "markdown",
   "id": "064ee2db",
   "metadata": {
    "papermill": {
     "duration": 0.01099,
     "end_time": "2022-08-12T11:53:25.375653",
     "exception": false,
     "start_time": "2022-08-12T11:53:25.364663",
     "status": "completed"
    },
    "tags": []
   },
   "source": [
    "---\n",
    "\n",
    "\n",
    "\n",
    "\n",
    "*Have questions or comments? Visit the [course discussion forum](https://www.kaggle.com/learn/intro-to-programming/discussion) to chat with other learners.*"
   ]
  }
 ],
 "metadata": {
  "kernelspec": {
   "display_name": "Python 3",
   "language": "python",
   "name": "python3"
  },
  "language_info": {
   "codemirror_mode": {
    "name": "ipython",
    "version": 3
   },
   "file_extension": ".py",
   "mimetype": "text/x-python",
   "name": "python",
   "nbconvert_exporter": "python",
   "pygments_lexer": "ipython3",
   "version": "3.7.12"
  },
  "papermill": {
   "default_parameters": {},
   "duration": 11.605436,
   "end_time": "2022-08-12T11:53:26.110616",
   "environment_variables": {},
   "exception": null,
   "input_path": "__notebook__.ipynb",
   "output_path": "__notebook__.ipynb",
   "parameters": {},
   "start_time": "2022-08-12T11:53:14.505180",
   "version": "2.3.4"
  }
 },
 "nbformat": 4,
 "nbformat_minor": 5
}
